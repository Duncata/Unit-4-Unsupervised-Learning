{
 "cells": [
  {
   "cell_type": "code",
   "execution_count": 1,
   "metadata": {},
   "outputs": [],
   "source": [
    "%matplotlib inline\n",
    "import numpy as np\n",
    "import pandas as pd\n",
    "import scipy\n",
    "import sklearn\n",
    "import matplotlib.pyplot as plt\n",
    "import seaborn as sns\n",
    "import nltk\n",
    "import re\n",
    "from nltk.corpus import inaugural, stopwords"
   ]
  },
  {
   "cell_type": "markdown",
   "metadata": {},
   "source": [
    "# Unit 4 Capstone:\n",
    "## Exploration Supervised and Unsupervised Learning for NLP \n",
    "\n",
    "In this capstone, we'll dig into a corpus of Inauguration addresses with the goal of classifying the texts using a combination of supervised and unsupervised learning techniques.  The corpus comes from nltk and contains 52 Presidents Inaugural addresses from Washington to Trump the US presidents ). \n",
    "\n",
    "__Sections:__\n",
    "\n",
    "[Text Processing](#section1)<br>\n",
    "[Unsupervised Feature Generation](#section2)<br>\n",
    "[Supervised Learning Models](#section3)<br>\n",
    "[Comparing Supervised and Unsupervised Learning for NLP Applications](#section4)"
   ]
  },
  {
   "cell_type": "markdown",
   "metadata": {},
   "source": [
    "## Importing Text"
   ]
  },
  {
   "cell_type": "code",
   "execution_count": 2,
   "metadata": {
    "scrolled": true
   },
   "outputs": [
    {
     "name": "stdout",
     "output_type": "stream",
     "text": [
      "['abc', 'abc.zip', 'alpino', 'alpino.zip', 'biocreative_ppi', 'biocreative_ppi.zip', 'brown', 'brown.zip', 'brown_tei', 'brown_tei.zip', 'cess_cat', 'cess_cat.zip', 'cess_esp', 'cess_esp.zip', 'chat80', 'chat80.zip', 'city_database', 'city_database.zip', 'cmudict', 'cmudict.zip', 'comparative_sentences', 'comparative_sentences.zip', 'comtrans.zip', 'conll2000', 'conll2000.zip', 'conll2002', 'conll2002.zip', 'conll2007.zip', 'crubadan', 'crubadan.zip', 'dependency_treebank', 'dependency_treebank.zip', 'dolch', 'dolch.zip', 'europarl_raw', 'europarl_raw.zip', 'floresta', 'floresta.zip', 'framenet_v15', 'framenet_v15.zip', 'framenet_v17', 'framenet_v17.zip', 'gazetteers', 'gazetteers.zip', 'genesis', 'genesis.zip', 'gutenberg', 'gutenberg.zip', 'ieer', 'ieer.zip', 'inaugural', 'inaugural.zip', 'indian', 'indian.zip', 'jeita.zip', 'kimmo', 'kimmo.zip', 'knbc.zip', 'lin_thesaurus', 'lin_thesaurus.zip', 'machado.zip', 'mac_morpho', 'mac_morpho.zip', 'masc_tagged.zip', 'movie_reviews', 'movie_reviews.zip', 'mte_teip5', 'mte_teip5.zip', 'names', 'names.zip', 'nombank.1.0.zip', 'nonbreaking_prefixes', 'nonbreaking_prefixes.zip', 'nps_chat', 'nps_chat.zip', 'omw', 'omw.zip', 'opinion_lexicon', 'opinion_lexicon.zip', 'panlex_swadesh.zip', 'paradigms', 'paradigms.zip', 'pil', 'pil.zip', 'pl196x', 'pl196x.zip', 'ppattach', 'ppattach.zip', 'problem_reports', 'problem_reports.zip', 'product_reviews_1', 'product_reviews_1.zip', 'product_reviews_2', 'product_reviews_2.zip', 'propbank.zip', 'pros_cons', 'pros_cons.zip', 'ptb', 'ptb.zip', 'qc', 'qc.zip', 'reuters.zip', 'rte', 'rte.zip', 'semcor.zip', 'senseval', 'senseval.zip', 'sentence_polarity', 'sentence_polarity.zip', 'sentiwordnet', 'sentiwordnet.zip', 'shakespeare', 'shakespeare.zip', 'sinica_treebank', 'sinica_treebank.zip', 'smultron', 'smultron.zip', 'state_union', 'state_union.zip', 'stopwords', 'stopwords.zip', 'subjectivity', 'subjectivity.zip', 'swadesh', 'swadesh.zip', 'switchboard', 'switchboard.zip', 'timit', 'timit.zip', 'toolbox', 'toolbox.zip', 'treebank', 'treebank.zip', 'twitter_samples', 'twitter_samples.zip', 'udhr', 'udhr.zip', 'udhr2', 'udhr2.zip', 'unicode_samples', 'unicode_samples.zip', 'universal_treebanks_v20.zip', 'verbnet', 'verbnet.zip', 'verbnet3', 'verbnet3.zip', 'webtext', 'webtext.zip', 'wordnet', 'wordnet.zip', 'wordnet_ic', 'wordnet_ic.zip', 'words', 'words.zip', 'ycoe', 'ycoe.zip']\n"
     ]
    }
   ],
   "source": [
    "import os\n",
    "import nltk.corpus\n",
    "print(os.listdir(nltk.data.find(\"corpora\")))"
   ]
  },
  {
   "cell_type": "code",
   "execution_count": 3,
   "metadata": {
    "scrolled": true
   },
   "outputs": [
    {
     "data": {
      "text/plain": [
       "58"
      ]
     },
     "execution_count": 3,
     "metadata": {},
     "output_type": "execute_result"
    }
   ],
   "source": [
    "len(nltk.corpus.inaugural.fileids())"
   ]
  },
  {
   "cell_type": "markdown",
   "metadata": {},
   "source": [
    "<a id='section1'></a>\n",
    "## Text Processing\n",
    "\n",
    "The first step is to get each speech for the corpus.  We'll create a list to store each file name and then create a loop to break each file into sentence level documents.  "
   ]
  },
  {
   "cell_type": "code",
   "execution_count": 4,
   "metadata": {
    "scrolled": true
   },
   "outputs": [
    {
     "data": {
      "text/plain": [
       "['1789-Washington.txt',\n",
       " '1793-Washington.txt',\n",
       " '1797-Adams.txt',\n",
       " '1801-Jefferson.txt',\n",
       " '1805-Jefferson.txt',\n",
       " '1809-Madison.txt',\n",
       " '1813-Madison.txt',\n",
       " '1817-Monroe.txt',\n",
       " '1821-Monroe.txt',\n",
       " '1825-Adams.txt',\n",
       " '1829-Jackson.txt',\n",
       " '1833-Jackson.txt',\n",
       " '1837-VanBuren.txt',\n",
       " '1841-Harrison.txt',\n",
       " '1845-Polk.txt',\n",
       " '1849-Taylor.txt',\n",
       " '1853-Pierce.txt',\n",
       " '1857-Buchanan.txt',\n",
       " '1861-Lincoln.txt',\n",
       " '1865-Lincoln.txt',\n",
       " '1869-Grant.txt',\n",
       " '1873-Grant.txt',\n",
       " '1877-Hayes.txt',\n",
       " '1881-Garfield.txt',\n",
       " '1885-Cleveland.txt',\n",
       " '1889-Harrison.txt',\n",
       " '1893-Cleveland.txt',\n",
       " '1897-McKinley.txt',\n",
       " '1901-McKinley.txt',\n",
       " '1905-Roosevelt.txt',\n",
       " '1909-Taft.txt',\n",
       " '1913-Wilson.txt',\n",
       " '1917-Wilson.txt',\n",
       " '1921-Harding.txt',\n",
       " '1925-Coolidge.txt',\n",
       " '1929-Hoover.txt',\n",
       " '1933-Roosevelt.txt',\n",
       " '1937-Roosevelt.txt',\n",
       " '1941-Roosevelt.txt',\n",
       " '1945-Roosevelt.txt',\n",
       " '1949-Truman.txt',\n",
       " '1953-Eisenhower.txt',\n",
       " '1957-Eisenhower.txt',\n",
       " '1961-Kennedy.txt',\n",
       " '1965-Johnson.txt',\n",
       " '1969-Nixon.txt',\n",
       " '1973-Nixon.txt',\n",
       " '1977-Carter.txt',\n",
       " '1981-Reagan.txt',\n",
       " '1985-Reagan.txt',\n",
       " '1989-Bush.txt',\n",
       " '1993-Clinton.txt',\n",
       " '1997-Clinton.txt',\n",
       " '2001-Bush.txt',\n",
       " '2005-Bush.txt',\n",
       " '2009-Obama.txt',\n",
       " '2013-Obama.txt',\n",
       " '2017-Trump.txt']"
      ]
     },
     "execution_count": 4,
     "metadata": {},
     "output_type": "execute_result"
    }
   ],
   "source": [
    "nltk.corpus.inaugural.fileids()"
   ]
  },
  {
   "cell_type": "code",
   "execution_count": 5,
   "metadata": {
    "scrolled": true
   },
   "outputs": [
    {
     "name": "stdout",
     "output_type": "stream",
     "text": [
      "LENGTH OF SENTENCE LIST:  5050\n",
      "\n",
      "LENGTH OF SENTENCE LIST:  5050\n",
      "\n",
      "SENTENCE LIST:\n",
      " ['Fellow - Citizens of the Senate and of the House of Representatives :', 'Among the vicissitudes incident to life no event could have filled me with greater anxieties than that of which the notification was transmitted by your order , and received on the 14th day of the present month .', 'On the one hand , I was summoned by my Country , whose voice I can never hear but with veneration and love , from a retreat which I had chosen with the fondest predilection , and , in my flattering hopes , with an immutable decision , as the asylum of my declining years -- a retreat which was rendered every day more necessary as well as more dear to me by the addition of habit to inclination , and of frequent interruptions in my health to the gradual waste committed on it by time .', 'On the other hand , the magnitude and difficulty of the trust to which the voice of my country called me , being sufficient to awaken in the wisest and most experienced of her citizens a distrustful scrutiny into his qualifications , could not but overwhelm with despondence one who ( inheriting inferior endowments from nature and unpracticed in the duties of civil administration ) ought to be peculiarly conscious of his own deficiencies .', 'In this conflict of emotions all I dare aver is that it has been my faithful study to collect my duty from a just appreciation of every circumstance by which it might be affected .', 'All I dare hope is that if , in executing this task , I have been too much swayed by a grateful remembrance of former instances , or by an affectionate sensibility to this transcendent proof of the confidence of my fellow citizens , and have thence too little consulted my incapacity as well as disinclination for the weighty and untried cares before me , my error will be palliated by the motives which mislead me , and its consequences be judged by my country with some share of the partiality in which they originated .', 'Such being the impressions under which I have , in obedience to the public summons , repaired to the present station , it would be peculiarly improper to omit in this first official act my fervent supplications to that Almighty Being who rules over the universe , who presides in the councils of nations , and whose providential aids can supply every human defect , that His benediction may consecrate to the liberties and happiness of the people of the United States a Government instituted by themselves for these essential purposes , and may enable every instrument employed in its administration to execute with success the functions allotted to his charge .', 'In tendering this homage to the Great Author of every public and private good , I assure myself that it expresses your sentiments not less than my own , nor those of my fellow citizens at large less than either .', 'No people can be bound to acknowledge and adore the Invisible Hand which conducts the affairs of men more than those of the United States .', 'Every step by which they have advanced to the character of an independent nation seems to have been distinguished by some token of providential agency ; and in the important revolution just accomplished in the system of their united government the tranquil deliberations and voluntary consent of so many distinct communities from which the event has resulted can not be compared with the means by which most governments have been established without some return of pious gratitude , along with an humble anticipation of the future blessings which the past seem to presage .']\n",
      "\n",
      "SENTENCE LIST:\n",
      " ['Washington', 'Washington', 'Washington', 'Washington', 'Washington', 'Washington', 'Washington', 'Washington', 'Washington', 'Washington']\n"
     ]
    }
   ],
   "source": [
    "# Make list of individual file ids\n",
    "file_ids = inaugural.fileids()\n",
    "\n",
    "# Create blank labels list to populate\n",
    "labels = []\n",
    "\n",
    "# Iterate through list of files pulling out President name & year\n",
    "for file in file_ids:\n",
    "    \n",
    "    # label president for each text.  Splice to extract name, remove non-alpha characters for \n",
    "    # occassions when a President gave more than one State of the Union address in the same year.\n",
    "    president = re.sub(\"[^a-zA-Z]\", '', file[5:-4])\n",
    "    president = re.sub(r'--',' ', file[5:-4])\n",
    "    president = re.sub(\"[\\[].*?[\\]]\", \"\", file[5:-4])\n",
    "  \n",
    "       \n",
    "    # Append to labels list\n",
    "    labels.append([file, president])\n",
    "    \n",
    "\n",
    "# Create blank lists to populate with sentence level data\n",
    "sent_list = []\n",
    "pres_list = []\n",
    "\n",
    "# Iterate through each State of the Union, create sentence level documents, maintain President\n",
    "# and year information for each sentence\n",
    "for i in range(len(labels)):\n",
    "    sents = inaugural.sents(labels[i][0]) #get sentences from document\n",
    "    joined_sents = [(' '.join(sent), labels[i][1]) for sent in sents]\n",
    "    \n",
    "    # write out to individual lists for easier text processing\n",
    "    for i in range(len(joined_sents)): \n",
    "        sent_list.append(joined_sents[i][0]) \n",
    "        pres_list.append(joined_sents[i][1])  \n",
    "\n",
    "print(\"LENGTH OF SENTENCE LIST: \", len(sent_list))\n",
    "print('\\nLENGTH OF SENTENCE LIST: ', len(pres_list))\n",
    "print('\\nSENTENCE LIST:\\n', sent_list[:10])\n",
    "print('\\nSENTENCE LIST:\\n', pres_list[:10])"
   ]
  },
  {
   "cell_type": "code",
   "execution_count": 6,
   "metadata": {
    "scrolled": true
   },
   "outputs": [
    {
     "data": {
      "text/plain": [
       "[['1789-Washington.txt', 'Washington'],\n",
       " ['1793-Washington.txt', 'Washington'],\n",
       " ['1797-Adams.txt', 'Adams'],\n",
       " ['1801-Jefferson.txt', 'Jefferson'],\n",
       " ['1805-Jefferson.txt', 'Jefferson'],\n",
       " ['1809-Madison.txt', 'Madison'],\n",
       " ['1813-Madison.txt', 'Madison'],\n",
       " ['1817-Monroe.txt', 'Monroe'],\n",
       " ['1821-Monroe.txt', 'Monroe'],\n",
       " ['1825-Adams.txt', 'Adams'],\n",
       " ['1829-Jackson.txt', 'Jackson'],\n",
       " ['1833-Jackson.txt', 'Jackson'],\n",
       " ['1837-VanBuren.txt', 'VanBuren'],\n",
       " ['1841-Harrison.txt', 'Harrison'],\n",
       " ['1845-Polk.txt', 'Polk'],\n",
       " ['1849-Taylor.txt', 'Taylor'],\n",
       " ['1853-Pierce.txt', 'Pierce'],\n",
       " ['1857-Buchanan.txt', 'Buchanan'],\n",
       " ['1861-Lincoln.txt', 'Lincoln'],\n",
       " ['1865-Lincoln.txt', 'Lincoln'],\n",
       " ['1869-Grant.txt', 'Grant'],\n",
       " ['1873-Grant.txt', 'Grant'],\n",
       " ['1877-Hayes.txt', 'Hayes'],\n",
       " ['1881-Garfield.txt', 'Garfield'],\n",
       " ['1885-Cleveland.txt', 'Cleveland'],\n",
       " ['1889-Harrison.txt', 'Harrison'],\n",
       " ['1893-Cleveland.txt', 'Cleveland'],\n",
       " ['1897-McKinley.txt', 'McKinley'],\n",
       " ['1901-McKinley.txt', 'McKinley'],\n",
       " ['1905-Roosevelt.txt', 'Roosevelt'],\n",
       " ['1909-Taft.txt', 'Taft'],\n",
       " ['1913-Wilson.txt', 'Wilson'],\n",
       " ['1917-Wilson.txt', 'Wilson'],\n",
       " ['1921-Harding.txt', 'Harding'],\n",
       " ['1925-Coolidge.txt', 'Coolidge'],\n",
       " ['1929-Hoover.txt', 'Hoover'],\n",
       " ['1933-Roosevelt.txt', 'Roosevelt'],\n",
       " ['1937-Roosevelt.txt', 'Roosevelt'],\n",
       " ['1941-Roosevelt.txt', 'Roosevelt'],\n",
       " ['1945-Roosevelt.txt', 'Roosevelt'],\n",
       " ['1949-Truman.txt', 'Truman'],\n",
       " ['1953-Eisenhower.txt', 'Eisenhower'],\n",
       " ['1957-Eisenhower.txt', 'Eisenhower'],\n",
       " ['1961-Kennedy.txt', 'Kennedy'],\n",
       " ['1965-Johnson.txt', 'Johnson'],\n",
       " ['1969-Nixon.txt', 'Nixon'],\n",
       " ['1973-Nixon.txt', 'Nixon'],\n",
       " ['1977-Carter.txt', 'Carter'],\n",
       " ['1981-Reagan.txt', 'Reagan'],\n",
       " ['1985-Reagan.txt', 'Reagan'],\n",
       " ['1989-Bush.txt', 'Bush'],\n",
       " ['1993-Clinton.txt', 'Clinton'],\n",
       " ['1997-Clinton.txt', 'Clinton'],\n",
       " ['2001-Bush.txt', 'Bush'],\n",
       " ['2005-Bush.txt', 'Bush'],\n",
       " ['2009-Obama.txt', 'Obama'],\n",
       " ['2013-Obama.txt', 'Obama'],\n",
       " ['2017-Trump.txt', 'Trump']]"
      ]
     },
     "execution_count": 6,
     "metadata": {},
     "output_type": "execute_result"
    }
   ],
   "source": [
    "labels"
   ]
  },
  {
   "cell_type": "markdown",
   "metadata": {},
   "source": [
    "We've created 5050 sentence level text documents. Looking at a few example sentences, we see this first sentence of each speech acts as a title identifying the address.  Let's clean up the documents to get rid of these sentences as well as punctuation and numeric values.  We'll deal with capitalization in the [unsupervised feature generation section](#section2)."
   ]
  },
  {
   "cell_type": "markdown",
   "metadata": {},
   "source": [
    "#### Get the List of SENTENCE"
   ]
  },
  {
   "cell_type": "code",
   "execution_count": 7,
   "metadata": {
    "scrolled": true
   },
   "outputs": [
    {
     "name": "stdout",
     "output_type": "stream",
     "text": [
      "5050\n"
     ]
    },
    {
     "data": {
      "text/plain": [
       "['Fellow   Citizens of the Senate and of the House of Representatives  ',\n",
       " 'Among the vicissitudes incident to life no event could have filled me with greater anxieties than that of which the notification was transmitted by your order   and received on the   th day of the present month  ',\n",
       " 'On the one hand   I was summoned by my Country   whose voice I can never hear but with veneration and love   from a retreat which I had chosen with the fondest predilection   and   in my flattering hopes   with an immutable decision   as the asylum of my declining years    a retreat which was rendered every day more necessary as well as more dear to me by the addition of habit to inclination   and of frequent interruptions in my health to the gradual waste committed on it by time  ',\n",
       " 'On the other hand   the magnitude and difficulty of the trust to which the voice of my country called me   being sufficient to awaken in the wisest and most experienced of her citizens a distrustful scrutiny into his qualifications   could not but overwhelm with despondence one who   inheriting inferior endowments from nature and unpracticed in the duties of civil administration   ought to be peculiarly conscious of his own deficiencies  ',\n",
       " 'In this conflict of emotions all I dare aver is that it has been my faithful study to collect my duty from a just appreciation of every circumstance by which it might be affected  ',\n",
       " 'All I dare hope is that if   in executing this task   I have been too much swayed by a grateful remembrance of former instances   or by an affectionate sensibility to this transcendent proof of the confidence of my fellow citizens   and have thence too little consulted my incapacity as well as disinclination for the weighty and untried cares before me   my error will be palliated by the motives which mislead me   and its consequences be judged by my country with some share of the partiality in which they originated  ',\n",
       " 'Such being the impressions under which I have   in obedience to the public summons   repaired to the present station   it would be peculiarly improper to omit in this first official act my fervent supplications to that Almighty Being who rules over the universe   who presides in the councils of nations   and whose providential aids can supply every human defect   that His benediction may consecrate to the liberties and happiness of the people of the United States a Government instituted by themselves for these essential purposes   and may enable every instrument employed in its administration to execute with success the functions allotted to his charge  ',\n",
       " 'In tendering this homage to the Great Author of every public and private good   I assure myself that it expresses your sentiments not less than my own   nor those of my fellow citizens at large less than either  ']"
      ]
     },
     "execution_count": 7,
     "metadata": {},
     "output_type": "execute_result"
    }
   ],
   "source": [
    "# Create list to hold cleaned up sentences\n",
    "sent_list_clean = []\n",
    "\n",
    "# Iterate through sentence list, removing punctuation, numeric values,\n",
    "# frequently occuring word 'applause' that acts like a stop word in this \n",
    "# context, and sentences with all capital letters that represent title \n",
    "# information for each speech.\n",
    "for sent in sent_list:\n",
    "    sent = re.sub(\"[^a-zA-Z]\", ' ', sent) #remove numeric and punctuation\n",
    "    if sent == sent.upper():              #removes ALL CAPS header sentences\n",
    "        sent = \"\"                         #replace with blank\n",
    "    sent_list_clean.append(sent)\n",
    "\n",
    "# Inspect cleaned sentences\n",
    "print(len(sent_list_clean))\n",
    "sent_list_clean[:8]\n"
   ]
  },
  {
   "cell_type": "markdown",
   "metadata": {},
   "source": [
    "#### Tokenize the SENTENCE into words and get the lemmas. \n",
    "### lemma_sents"
   ]
  },
  {
   "cell_type": "code",
   "execution_count": 8,
   "metadata": {},
   "outputs": [
    {
     "data": {
      "text/plain": [
       "['Fellow Citizens of the Senate and of the House of Representatives',\n",
       " 'Among the vicissitude incident to life no event could have filled me with greater anxiety than that of which the notification wa transmitted by your order and received on the th day of the present month',\n",
       " 'On the one hand I wa summoned by my Country whose voice I can never hear but with veneration and love from a retreat which I had chosen with the fondest predilection and in my flattering hope with an immutable decision a the asylum of my declining year a retreat which wa rendered every day more necessary a well a more dear to me by the addition of habit to inclination and of frequent interruption in my health to the gradual waste committed on it by time',\n",
       " 'On the other hand the magnitude and difficulty of the trust to which the voice of my country called me being sufficient to awaken in the wisest and most experienced of her citizen a distrustful scrutiny into his qualification could not but overwhelm with despondence one who inheriting inferior endowment from nature and unpracticed in the duty of civil administration ought to be peculiarly conscious of his own deficiency',\n",
       " 'In this conflict of emotion all I dare aver is that it ha been my faithful study to collect my duty from a just appreciation of every circumstance by which it might be affected']"
      ]
     },
     "execution_count": 8,
     "metadata": {},
     "output_type": "execute_result"
    }
   ],
   "source": [
    "from nltk.tokenize import word_tokenize\n",
    "from nltk.stem import WordNetLemmatizer\n",
    "\n",
    "lemmatizer = WordNetLemmatizer()\n",
    "\n",
    "# Create list to hold lemmatized sentences\n",
    "lemma_sents = []\n",
    "\n",
    "# Tokenize, get lemmas, and rejoin back to sentence level doc\n",
    "for sent in sent_list_clean:\n",
    "    words = word_tokenize(sent)                                 \n",
    "    word_lemma = [lemmatizer.lemmatize(word) for word in words] \n",
    "    sent_lemma = ' '.join(word_lemma)                           \n",
    "    lemma_sents.append(sent_lemma)\n",
    "    \n",
    "# Inspect results\n",
    "lemma_sents[:5]"
   ]
  },
  {
   "cell_type": "markdown",
   "metadata": {},
   "source": [
    "#### Let us put the lemma_sents to a dataframe and remove all the blank lines"
   ]
  },
  {
   "cell_type": "code",
   "execution_count": 9,
   "metadata": {},
   "outputs": [
    {
     "data": {
      "text/html": [
       "<div>\n",
       "<style scoped>\n",
       "    .dataframe tbody tr th:only-of-type {\n",
       "        vertical-align: middle;\n",
       "    }\n",
       "\n",
       "    .dataframe tbody tr th {\n",
       "        vertical-align: top;\n",
       "    }\n",
       "\n",
       "    .dataframe thead th {\n",
       "        text-align: right;\n",
       "    }\n",
       "</style>\n",
       "<table border=\"1\" class=\"dataframe\">\n",
       "  <thead>\n",
       "    <tr style=\"text-align: right;\">\n",
       "      <th></th>\n",
       "      <th>sent</th>\n",
       "      <th>president</th>\n",
       "    </tr>\n",
       "  </thead>\n",
       "  <tbody>\n",
       "    <tr>\n",
       "      <th>0</th>\n",
       "      <td>Fellow Citizens of the Senate and of the House...</td>\n",
       "      <td>Washington</td>\n",
       "    </tr>\n",
       "    <tr>\n",
       "      <th>1</th>\n",
       "      <td>Among the vicissitude incident to life no even...</td>\n",
       "      <td>Washington</td>\n",
       "    </tr>\n",
       "    <tr>\n",
       "      <th>2</th>\n",
       "      <td>On the one hand I wa summoned by my Country wh...</td>\n",
       "      <td>Washington</td>\n",
       "    </tr>\n",
       "    <tr>\n",
       "      <th>3</th>\n",
       "      <td>On the other hand the magnitude and difficulty...</td>\n",
       "      <td>Washington</td>\n",
       "    </tr>\n",
       "    <tr>\n",
       "      <th>4</th>\n",
       "      <td>In this conflict of emotion all I dare aver is...</td>\n",
       "      <td>Washington</td>\n",
       "    </tr>\n",
       "    <tr>\n",
       "      <th>5</th>\n",
       "      <td>All I dare hope is that if in executing this t...</td>\n",
       "      <td>Washington</td>\n",
       "    </tr>\n",
       "    <tr>\n",
       "      <th>6</th>\n",
       "      <td>Such being the impression under which I have i...</td>\n",
       "      <td>Washington</td>\n",
       "    </tr>\n",
       "    <tr>\n",
       "      <th>7</th>\n",
       "      <td>In tendering this homage to the Great Author o...</td>\n",
       "      <td>Washington</td>\n",
       "    </tr>\n",
       "    <tr>\n",
       "      <th>8</th>\n",
       "      <td>No people can be bound to acknowledge and ador...</td>\n",
       "      <td>Washington</td>\n",
       "    </tr>\n",
       "    <tr>\n",
       "      <th>9</th>\n",
       "      <td>Every step by which they have advanced to the ...</td>\n",
       "      <td>Washington</td>\n",
       "    </tr>\n",
       "    <tr>\n",
       "      <th>10</th>\n",
       "      <td>These reflection arising out of the present cr...</td>\n",
       "      <td>Washington</td>\n",
       "    </tr>\n",
       "    <tr>\n",
       "      <th>11</th>\n",
       "      <td>You will join with me I trust in thinking that...</td>\n",
       "      <td>Washington</td>\n",
       "    </tr>\n",
       "    <tr>\n",
       "      <th>12</th>\n",
       "      <td>By the article establishing the executive depa...</td>\n",
       "      <td>Washington</td>\n",
       "    </tr>\n",
       "    <tr>\n",
       "      <th>13</th>\n",
       "      <td>The circumstance under which I now meet you wi...</td>\n",
       "      <td>Washington</td>\n",
       "    </tr>\n",
       "    <tr>\n",
       "      <th>14</th>\n",
       "      <td>It will be more consistent with those circumst...</td>\n",
       "      <td>Washington</td>\n",
       "    </tr>\n",
       "    <tr>\n",
       "      <th>15</th>\n",
       "      <td>In these honorable qualification I behold the ...</td>\n",
       "      <td>Washington</td>\n",
       "    </tr>\n",
       "    <tr>\n",
       "      <th>16</th>\n",
       "      <td>I dwell on this prospect with every satisfacti...</td>\n",
       "      <td>Washington</td>\n",
       "    </tr>\n",
       "    <tr>\n",
       "      <th>17</th>\n",
       "      <td>Besides the ordinary object submitted to your ...</td>\n",
       "      <td>Washington</td>\n",
       "    </tr>\n",
       "    <tr>\n",
       "      <th>18</th>\n",
       "      <td>Instead of undertaking particular recommendati...</td>\n",
       "      <td>Washington</td>\n",
       "    </tr>\n",
       "    <tr>\n",
       "      <th>19</th>\n",
       "      <td>To the foregoing observation I have one to add...</td>\n",
       "      <td>Washington</td>\n",
       "    </tr>\n",
       "    <tr>\n",
       "      <th>20</th>\n",
       "      <td>It concern myself and will therefore be a brie...</td>\n",
       "      <td>Washington</td>\n",
       "    </tr>\n",
       "    <tr>\n",
       "      <th>21</th>\n",
       "      <td>When I wa first honored with a call into the s...</td>\n",
       "      <td>Washington</td>\n",
       "    </tr>\n",
       "    <tr>\n",
       "      <th>22</th>\n",
       "      <td>From this resolution I have in no instance dep...</td>\n",
       "      <td>Washington</td>\n",
       "    </tr>\n",
       "    <tr>\n",
       "      <th>23</th>\n",
       "      <td>Having thus imparted to you my sentiment a the...</td>\n",
       "      <td>Washington</td>\n",
       "    </tr>\n",
       "    <tr>\n",
       "      <th>24</th>\n",
       "      <td>Fellow citizen I am again called upon by the v...</td>\n",
       "      <td>Washington</td>\n",
       "    </tr>\n",
       "    <tr>\n",
       "      <th>25</th>\n",
       "      <td>When the occasion proper for it shall arrive I...</td>\n",
       "      <td>Washington</td>\n",
       "    </tr>\n",
       "    <tr>\n",
       "      <th>26</th>\n",
       "      <td>Previous to the execution of any official act ...</td>\n",
       "      <td>Washington</td>\n",
       "    </tr>\n",
       "    <tr>\n",
       "      <th>27</th>\n",
       "      <td>This oath I am now about to take and in your p...</td>\n",
       "      <td>Washington</td>\n",
       "    </tr>\n",
       "    <tr>\n",
       "      <th>28</th>\n",
       "      <td>When it wa first perceived in early time that ...</td>\n",
       "      <td>Adams</td>\n",
       "    </tr>\n",
       "    <tr>\n",
       "      <th>29</th>\n",
       "      <td>Relying however on the purity of their intenti...</td>\n",
       "      <td>Adams</td>\n",
       "    </tr>\n",
       "    <tr>\n",
       "      <th>...</th>\n",
       "      <td>...</td>\n",
       "      <td>...</td>\n",
       "    </tr>\n",
       "    <tr>\n",
       "      <th>5020</th>\n",
       "      <td>The Bible tell u How good and pleasant it is w...</td>\n",
       "      <td>Trump</td>\n",
       "    </tr>\n",
       "    <tr>\n",
       "      <th>5021</th>\n",
       "      <td>We must speak our mind openly debate our disag...</td>\n",
       "      <td>Trump</td>\n",
       "    </tr>\n",
       "    <tr>\n",
       "      <th>5022</th>\n",
       "      <td>When America is united America is totally unst...</td>\n",
       "      <td>Trump</td>\n",
       "    </tr>\n",
       "    <tr>\n",
       "      <th>5023</th>\n",
       "      <td>There should be no fear We are protected and w...</td>\n",
       "      <td>Trump</td>\n",
       "    </tr>\n",
       "    <tr>\n",
       "      <th>5024</th>\n",
       "      <td>We will be protected by the great men and woma...</td>\n",
       "      <td>Trump</td>\n",
       "    </tr>\n",
       "    <tr>\n",
       "      <th>5025</th>\n",
       "      <td>Finally we must think big and dream even bigger</td>\n",
       "      <td>Trump</td>\n",
       "    </tr>\n",
       "    <tr>\n",
       "      <th>5026</th>\n",
       "      <td>In America we understand that a nation is only...</td>\n",
       "      <td>Trump</td>\n",
       "    </tr>\n",
       "    <tr>\n",
       "      <th>5027</th>\n",
       "      <td>We will no longer accept politician who are al...</td>\n",
       "      <td>Trump</td>\n",
       "    </tr>\n",
       "    <tr>\n",
       "      <th>5028</th>\n",
       "      <td>The time for empty talk is over</td>\n",
       "      <td>Trump</td>\n",
       "    </tr>\n",
       "    <tr>\n",
       "      <th>5029</th>\n",
       "      <td>Now arrives the hour of action</td>\n",
       "      <td>Trump</td>\n",
       "    </tr>\n",
       "    <tr>\n",
       "      <th>5030</th>\n",
       "      <td>Do not allow anyone to tell you that it can no...</td>\n",
       "      <td>Trump</td>\n",
       "    </tr>\n",
       "    <tr>\n",
       "      <th>5031</th>\n",
       "      <td>No challenge can match the heart and fight and...</td>\n",
       "      <td>Trump</td>\n",
       "    </tr>\n",
       "    <tr>\n",
       "      <th>5032</th>\n",
       "      <td>We will not fail</td>\n",
       "      <td>Trump</td>\n",
       "    </tr>\n",
       "    <tr>\n",
       "      <th>5033</th>\n",
       "      <td>Our country will thrive and prosper again</td>\n",
       "      <td>Trump</td>\n",
       "    </tr>\n",
       "    <tr>\n",
       "      <th>5034</th>\n",
       "      <td>We stand at the birth of a new millennium read...</td>\n",
       "      <td>Trump</td>\n",
       "    </tr>\n",
       "    <tr>\n",
       "      <th>5035</th>\n",
       "      <td>A new national pride will stir our soul lift o...</td>\n",
       "      <td>Trump</td>\n",
       "    </tr>\n",
       "    <tr>\n",
       "      <th>5036</th>\n",
       "      <td>It s time to remember that old wisdom our sold...</td>\n",
       "      <td>Trump</td>\n",
       "    </tr>\n",
       "    <tr>\n",
       "      <th>5037</th>\n",
       "      <td>And whether a child is born in the urban spraw...</td>\n",
       "      <td>Trump</td>\n",
       "    </tr>\n",
       "    <tr>\n",
       "      <th>5038</th>\n",
       "      <td>So to all Americans in every city near and far...</td>\n",
       "      <td>Trump</td>\n",
       "    </tr>\n",
       "    <tr>\n",
       "      <th>5039</th>\n",
       "      <td>Your voice your hope and your dream will defin...</td>\n",
       "      <td>Trump</td>\n",
       "    </tr>\n",
       "    <tr>\n",
       "      <th>5040</th>\n",
       "      <td>And your courage and goodness and love will fo...</td>\n",
       "      <td>Trump</td>\n",
       "    </tr>\n",
       "    <tr>\n",
       "      <th>5041</th>\n",
       "      <td>Together we will make America strong again</td>\n",
       "      <td>Trump</td>\n",
       "    </tr>\n",
       "    <tr>\n",
       "      <th>5042</th>\n",
       "      <td>We will make America wealthy again</td>\n",
       "      <td>Trump</td>\n",
       "    </tr>\n",
       "    <tr>\n",
       "      <th>5043</th>\n",
       "      <td>We will make America proud again</td>\n",
       "      <td>Trump</td>\n",
       "    </tr>\n",
       "    <tr>\n",
       "      <th>5044</th>\n",
       "      <td>We will make America safe again</td>\n",
       "      <td>Trump</td>\n",
       "    </tr>\n",
       "    <tr>\n",
       "      <th>5045</th>\n",
       "      <td>And yes together we will make America great again</td>\n",
       "      <td>Trump</td>\n",
       "    </tr>\n",
       "    <tr>\n",
       "      <th>5046</th>\n",
       "      <td>Thank you</td>\n",
       "      <td>Trump</td>\n",
       "    </tr>\n",
       "    <tr>\n",
       "      <th>5047</th>\n",
       "      <td>God bless you and God bless America</td>\n",
       "      <td>Trump</td>\n",
       "    </tr>\n",
       "    <tr>\n",
       "      <th>5048</th>\n",
       "      <td>Thank you</td>\n",
       "      <td>Trump</td>\n",
       "    </tr>\n",
       "    <tr>\n",
       "      <th>5049</th>\n",
       "      <td>God bless America</td>\n",
       "      <td>Trump</td>\n",
       "    </tr>\n",
       "  </tbody>\n",
       "</table>\n",
       "<p>5050 rows × 2 columns</p>\n",
       "</div>"
      ],
      "text/plain": [
       "                                                   sent   president\n",
       "0     Fellow Citizens of the Senate and of the House...  Washington\n",
       "1     Among the vicissitude incident to life no even...  Washington\n",
       "2     On the one hand I wa summoned by my Country wh...  Washington\n",
       "3     On the other hand the magnitude and difficulty...  Washington\n",
       "4     In this conflict of emotion all I dare aver is...  Washington\n",
       "...                                                 ...         ...\n",
       "5045  And yes together we will make America great again       Trump\n",
       "5046                                          Thank you       Trump\n",
       "5047                God bless you and God bless America       Trump\n",
       "5048                                          Thank you       Trump\n",
       "5049                                  God bless America       Trump\n",
       "\n",
       "[5050 rows x 2 columns]"
      ]
     },
     "execution_count": 9,
     "metadata": {},
     "output_type": "execute_result"
    }
   ],
   "source": [
    "# Send to data frame\n",
    "df = pd.DataFrame()\n",
    "df['sent'] = lemma_sents\n",
    "df['president'] = pres_list\n",
    "\n",
    "\n",
    "# Remove blank documents \n",
    "df = df[df.sent!=\"\"]\n",
    "df\n"
   ]
  },
  {
   "cell_type": "markdown",
   "metadata": {},
   "source": [
    "<a id='section2'></a>  \n",
    "# Unsupervised NLP Feature Generation\n",
    "- We clean up our President Inaugural Text, processed it into sentence  then into dataframe.\n",
    "- We now used the dataframe we made to explore the NLP Unsupervised learning using:\n",
    "   * __TF-idf__\n",
    "   * __Latent Semantic Analysis__\n",
    "   * __Word2Vec__ "
   ]
  },
  {
   "cell_type": "markdown",
   "metadata": {},
   "source": [
    "#### First, let's take a look at class balance and then split the dataframe into a training and testing sets.  We'll save 25% for testing our supervised models later on.  "
   ]
  },
  {
   "cell_type": "code",
   "execution_count": 10,
   "metadata": {
    "scrolled": true
   },
   "outputs": [
    {
     "data": {
      "text/html": [
       "<div>\n",
       "<style scoped>\n",
       "    .dataframe tbody tr th:only-of-type {\n",
       "        vertical-align: middle;\n",
       "    }\n",
       "\n",
       "    .dataframe tbody tr th {\n",
       "        vertical-align: top;\n",
       "    }\n",
       "\n",
       "    .dataframe thead th {\n",
       "        text-align: right;\n",
       "    }\n",
       "</style>\n",
       "<table border=\"1\" class=\"dataframe\">\n",
       "  <thead>\n",
       "    <tr style=\"text-align: right;\">\n",
       "      <th></th>\n",
       "      <th>sent</th>\n",
       "    </tr>\n",
       "    <tr>\n",
       "      <th>president</th>\n",
       "      <th></th>\n",
       "    </tr>\n",
       "  </thead>\n",
       "  <tbody>\n",
       "    <tr>\n",
       "      <th>Adams</th>\n",
       "      <td>111</td>\n",
       "    </tr>\n",
       "    <tr>\n",
       "      <th>Buchanan</th>\n",
       "      <td>89</td>\n",
       "    </tr>\n",
       "    <tr>\n",
       "      <th>Bush</th>\n",
       "      <td>337</td>\n",
       "    </tr>\n",
       "    <tr>\n",
       "      <th>Carter</th>\n",
       "      <td>53</td>\n",
       "    </tr>\n",
       "    <tr>\n",
       "      <th>Cleveland</th>\n",
       "      <td>102</td>\n",
       "    </tr>\n",
       "    <tr>\n",
       "      <th>Clinton</th>\n",
       "      <td>193</td>\n",
       "    </tr>\n",
       "    <tr>\n",
       "      <th>Coolidge</th>\n",
       "      <td>197</td>\n",
       "    </tr>\n",
       "    <tr>\n",
       "      <th>Eisenhower</th>\n",
       "      <td>215</td>\n",
       "    </tr>\n",
       "    <tr>\n",
       "      <th>Garfield</th>\n",
       "      <td>112</td>\n",
       "    </tr>\n",
       "    <tr>\n",
       "      <th>Grant</th>\n",
       "      <td>85</td>\n",
       "    </tr>\n",
       "    <tr>\n",
       "      <th>Harding</th>\n",
       "      <td>149</td>\n",
       "    </tr>\n",
       "    <tr>\n",
       "      <th>Harrison</th>\n",
       "      <td>367</td>\n",
       "    </tr>\n",
       "    <tr>\n",
       "      <th>Hayes</th>\n",
       "      <td>59</td>\n",
       "    </tr>\n",
       "    <tr>\n",
       "      <th>Hoover</th>\n",
       "      <td>158</td>\n",
       "    </tr>\n",
       "    <tr>\n",
       "      <th>Jackson</th>\n",
       "      <td>55</td>\n",
       "    </tr>\n",
       "    <tr>\n",
       "      <th>Jefferson</th>\n",
       "      <td>87</td>\n",
       "    </tr>\n",
       "    <tr>\n",
       "      <th>Johnson</th>\n",
       "      <td>94</td>\n",
       "    </tr>\n",
       "    <tr>\n",
       "      <th>Kennedy</th>\n",
       "      <td>52</td>\n",
       "    </tr>\n",
       "    <tr>\n",
       "      <th>Lincoln</th>\n",
       "      <td>165</td>\n",
       "    </tr>\n",
       "    <tr>\n",
       "      <th>Madison</th>\n",
       "      <td>54</td>\n",
       "    </tr>\n",
       "    <tr>\n",
       "      <th>McKinley</th>\n",
       "      <td>230</td>\n",
       "    </tr>\n",
       "    <tr>\n",
       "      <th>Monroe</th>\n",
       "      <td>251</td>\n",
       "    </tr>\n",
       "    <tr>\n",
       "      <th>Nixon</th>\n",
       "      <td>175</td>\n",
       "    </tr>\n",
       "    <tr>\n",
       "      <th>Obama</th>\n",
       "      <td>204</td>\n",
       "    </tr>\n",
       "    <tr>\n",
       "      <th>Pierce</th>\n",
       "      <td>104</td>\n",
       "    </tr>\n",
       "    <tr>\n",
       "      <th>Polk</th>\n",
       "      <td>153</td>\n",
       "    </tr>\n",
       "    <tr>\n",
       "      <th>Reagan</th>\n",
       "      <td>253</td>\n",
       "    </tr>\n",
       "    <tr>\n",
       "      <th>Roosevelt</th>\n",
       "      <td>308</td>\n",
       "    </tr>\n",
       "    <tr>\n",
       "      <th>Taft</th>\n",
       "      <td>159</td>\n",
       "    </tr>\n",
       "    <tr>\n",
       "      <th>Taylor</th>\n",
       "      <td>22</td>\n",
       "    </tr>\n",
       "    <tr>\n",
       "      <th>Truman</th>\n",
       "      <td>116</td>\n",
       "    </tr>\n",
       "    <tr>\n",
       "      <th>Trump</th>\n",
       "      <td>90</td>\n",
       "    </tr>\n",
       "    <tr>\n",
       "      <th>VanBuren</th>\n",
       "      <td>95</td>\n",
       "    </tr>\n",
       "    <tr>\n",
       "      <th>Washington</th>\n",
       "      <td>28</td>\n",
       "    </tr>\n",
       "    <tr>\n",
       "      <th>Wilson</th>\n",
       "      <td>128</td>\n",
       "    </tr>\n",
       "  </tbody>\n",
       "</table>\n",
       "</div>"
      ],
      "text/plain": [
       "            sent\n",
       "president       \n",
       "Adams        111\n",
       "Buchanan      89\n",
       "Bush         337\n",
       "Carter        53\n",
       "Cleveland    102\n",
       "Clinton      193\n",
       "Coolidge     197\n",
       "Eisenhower   215\n",
       "Garfield     112\n",
       "Grant         85\n",
       "Harding      149\n",
       "Harrison     367\n",
       "Hayes         59\n",
       "Hoover       158\n",
       "Jackson       55\n",
       "Jefferson     87\n",
       "Johnson       94\n",
       "Kennedy       52\n",
       "Lincoln      165\n",
       "Madison       54\n",
       "McKinley     230\n",
       "Monroe       251\n",
       "Nixon        175\n",
       "Obama        204\n",
       "Pierce       104\n",
       "Polk         153\n",
       "Reagan       253\n",
       "Roosevelt    308\n",
       "Taft         159\n",
       "Taylor        22\n",
       "Truman       116\n",
       "Trump         90\n",
       "VanBuren      95\n",
       "Washington    28\n",
       "Wilson       128"
      ]
     },
     "execution_count": 10,
     "metadata": {},
     "output_type": "execute_result"
    }
   ],
   "source": [
    "# Examine class balance.  Predominantly Bush, Eisenhower, Harrison, McKinley,Monroe, Reagan, Roosevelt\n",
    "#df.groupby('president').count()/df['sent'].count()\n",
    "\n",
    "df.groupby('president').count()\n"
   ]
  },
  {
   "cell_type": "code",
   "execution_count": 11,
   "metadata": {},
   "outputs": [
    {
     "name": "stdout",
     "output_type": "stream",
     "text": [
      "(3787, 2)\n",
      "(1263, 2)\n"
     ]
    }
   ],
   "source": [
    "from sklearn.model_selection import train_test_split\n",
    "\n",
    "# Split data frame, reserving 25% for validation\n",
    "\n",
    "df_train, df_test = train_test_split(df,\n",
    "                                    stratify=df['president'], #maintain class balance between splits\n",
    "                                    test_size=0.25,\n",
    "                                    random_state=42)\n",
    "\n",
    "# Examine shapes\n",
    "print(df_train.shape)\n",
    "print(df_test.shape)\n"
   ]
  },
  {
   "cell_type": "code",
   "execution_count": 12,
   "metadata": {},
   "outputs": [
    {
     "data": {
      "text/html": [
       "<div>\n",
       "<style scoped>\n",
       "    .dataframe tbody tr th:only-of-type {\n",
       "        vertical-align: middle;\n",
       "    }\n",
       "\n",
       "    .dataframe tbody tr th {\n",
       "        vertical-align: top;\n",
       "    }\n",
       "\n",
       "    .dataframe thead th {\n",
       "        text-align: right;\n",
       "    }\n",
       "</style>\n",
       "<table border=\"1\" class=\"dataframe\">\n",
       "  <thead>\n",
       "    <tr style=\"text-align: right;\">\n",
       "      <th></th>\n",
       "      <th>sent</th>\n",
       "      <th>president</th>\n",
       "    </tr>\n",
       "  </thead>\n",
       "  <tbody>\n",
       "    <tr>\n",
       "      <th>4641</th>\n",
       "      <td>I will live and lead by these principle to adv...</td>\n",
       "      <td>Bush</td>\n",
       "    </tr>\n",
       "    <tr>\n",
       "      <th>3556</th>\n",
       "      <td>Splendid a can be the blessing of such a peace...</td>\n",
       "      <td>Eisenhower</td>\n",
       "    </tr>\n",
       "    <tr>\n",
       "      <th>4884</th>\n",
       "      <td>Together we discovered that a free market only...</td>\n",
       "      <td>Obama</td>\n",
       "    </tr>\n",
       "    <tr>\n",
       "      <th>1499</th>\n",
       "      <td>It ha been and is my earnest desire to correct...</td>\n",
       "      <td>Grant</td>\n",
       "    </tr>\n",
       "    <tr>\n",
       "      <th>3203</th>\n",
       "      <td>A nation like a person ha a body a body that m...</td>\n",
       "      <td>Roosevelt</td>\n",
       "    </tr>\n",
       "  </tbody>\n",
       "</table>\n",
       "</div>"
      ],
      "text/plain": [
       "                                                   sent   president\n",
       "4641  I will live and lead by these principle to adv...        Bush\n",
       "3556  Splendid a can be the blessing of such a peace...  Eisenhower\n",
       "4884  Together we discovered that a free market only...       Obama\n",
       "1499  It ha been and is my earnest desire to correct...       Grant\n",
       "3203  A nation like a person ha a body a body that m...   Roosevelt"
      ]
     },
     "execution_count": 12,
     "metadata": {},
     "output_type": "execute_result"
    }
   ],
   "source": [
    "df_train.head()"
   ]
  },
  {
   "cell_type": "markdown",
   "metadata": {},
   "source": [
    "# 1. Use Tf-idf Vector\n",
    "**TF-IDF stands for \"Term Frequency, Inverse Document Frequency\".**\n",
    "  The following components make up the tf-idf value:\n",
    "\n",
    "* **Document frequency** - How many documents the word appears in.  More common words will have a higher document frequency.\n",
    "* **Inverse document frequency** - Takes the log (base 2) of the ratio between the total documents to the document frequency.  More frequeny words are penalized whereas less common words become more influential.\n",
    "* **Term frequency** - How many times the term appears in a document.  In this case, it's how many times a word appears in a sentence.\n",
    "* **Tf-idf** - Product of the term frequency multiplied by the inverse document frequency.  Largest tf-idf scores will represent words that occur a lot in a small number of sentences, and the lowest for a word that occurs in many sentences.  __The benefit of tf-idf is that you can identify unique words that may help distinguish text documents from one another.__\n",
    "\n",
    "It is a way to score the importance of words (or \"terms\") in a document based on how frequently they appear across multiple documents.\n",
    "If a word appears frequently in a document, it's important. Give the word a high score. But if a word appears in many documents, it's not a unique identifier. Give the word a low score.\n",
    "Therefore, common words like \"the\" and \"for\", which appear in many documents, will be scaled down. Words that appear frequently in a single document will be scaled up.\n",
    "In other words:\n",
    "\n",
    "TF(w) = (Number of times term w appears in a document) / (Total number of terms in the document).\n",
    "IDF(w) = log_e(Total number of documents / Number of documents with term w in it).\n",
    "** For example **\n",
    "\n",
    "Consider a document containing 100 words wherein the word 'tiger' appears 3 times.\n",
    "\n",
    "The term frequency (i.e., tf) for 'tiger' is then:\n",
    "\n",
    "TF = (3 / 100) = 0.03.\n",
    "Now, assume we have 10 million documents and the word 'tiger' appears in 1000 of these. Then, the inverse document frequency (i.e., idf) is calculated as:\n",
    "\n",
    "IDF = log(10,000,000 / 1,000) = 4.\n",
    "Thus, the Tf-idf weight is the product of these quantities:\n",
    "\n",
    "TF-IDF = 0.03 * 4 = 0.12.\n"
   ]
  },
  {
   "cell_type": "markdown",
   "metadata": {},
   "source": [
    "### Let us calculate our tf-idf vector matrix using TfidfVectorizer.  \n",
    "#### We also do bit more text cleaning by removing stop words and standardizing everything to lowercase using td-idf"
   ]
  },
  {
   "cell_type": "code",
   "execution_count": 13,
   "metadata": {},
   "outputs": [
    {
     "name": "stdout",
     "output_type": "stream",
     "text": [
      "(3787, 3924)\n",
      "(1263, 3924)\n"
     ]
    }
   ],
   "source": [
    "from sklearn.feature_extraction.text import TfidfVectorizer\n",
    "\n",
    "vectorizer = TfidfVectorizer(stop_words='english', #filter out stopwords\n",
    "                             lowercase=True,       #convert all to lowercase\n",
    "                             min_df=2,             #use words appearing at least twice per document\n",
    "                             max_df=0.5,           #drop words that occur in more than half of the documents\n",
    "                             use_idf=True,\n",
    "                             smooth_idf=True,\n",
    "                             norm='l2'\n",
    "                             )\n",
    "\n",
    "\n",
    "# Specify data to vectorize\n",
    "X_train = df_train['sent']\n",
    "X_test = df_test['sent']\n",
    "\n",
    "# Vectorize training data\n",
    "X_train_tfidf = vectorizer.fit_transform(X_train)\n",
    "\n",
    "# Fit test data to vector\n",
    "X_test_tfidf = vectorizer.transform(X_test)\n",
    "\n",
    "# Examine shapes \n",
    "print(X_train_tfidf.shape)\n",
    "print(X_test_tfidf.shape)\n",
    "\n"
   ]
  },
  {
   "cell_type": "code",
   "execution_count": 14,
   "metadata": {},
   "outputs": [
    {
     "data": {
      "text/plain": [
       "<3787x3924 sparse matrix of type '<class 'numpy.float64'>'\n",
       "\twith 39083 stored elements in Compressed Sparse Row format>"
      ]
     },
     "execution_count": 14,
     "metadata": {},
     "output_type": "execute_result"
    }
   ],
   "source": [
    "X_train_tfidf"
   ]
  },
  {
   "cell_type": "code",
   "execution_count": 15,
   "metadata": {},
   "outputs": [
    {
     "data": {
      "text/plain": [
       "<3787x3924 sparse matrix of type '<class 'numpy.float64'>'\n",
       "\twith 39083 stored elements in Compressed Sparse Row format>"
      ]
     },
     "execution_count": 15,
     "metadata": {},
     "output_type": "execute_result"
    }
   ],
   "source": [
    "X_train_tfidf"
   ]
  },
  {
   "cell_type": "markdown",
   "metadata": {},
   "source": [
    "#### Base on our tf-idf matrices, let us calculate the top ten weight of each word."
   ]
  },
  {
   "cell_type": "code",
   "execution_count": 16,
   "metadata": {},
   "outputs": [
    {
     "name": "stdout",
     "output_type": "stream",
     "text": [
      "Train:\n",
      "             word  avg_weight\n",
      "1692          ha    0.021074\n",
      "2545      people    0.019640\n",
      "1650  government    0.019117\n",
      "2351      nation    0.017750\n",
      "3892       world    0.013680\n",
      "823      country    0.012855\n",
      "1667       great    0.012325\n",
      "2632       power    0.011292\n",
      "3336      states    0.011268\n",
      "3554        time    0.011197\n",
      "\n",
      "Test:\n",
      "             word  avg_weight\n",
      "2545      people    0.020139\n",
      "1650  government    0.019348\n",
      "1692          ha    0.018896\n",
      "2351      nation    0.015928\n",
      "3892       world    0.014847\n",
      "2093         law    0.012853\n",
      "172      america    0.012833\n",
      "823      country    0.012002\n",
      "1667       great    0.011837\n",
      "2385         new    0.011587\n"
     ]
    }
   ],
   "source": [
    "# Calculate weights on training data\n",
    "weights = np.asarray(X_train_tfidf.mean(axis=0)).ravel().tolist()\n",
    "weights_df = pd.DataFrame({'word': vectorizer.get_feature_names(), 'avg_weight': weights})\n",
    "print(\"Train:\\n\", weights_df.sort_values(by='avg_weight', ascending=False).head(10))\n",
    "\n",
    "# Calculate weights on test data\n",
    "weights = np.asarray(X_test_tfidf.mean(axis=0)).ravel().tolist()\n",
    "weights_df = pd.DataFrame({'word': vectorizer.get_feature_names(), 'avg_weight': weights})\n",
    "print(\"\\nTest:\\n\", weights_df.sort_values(by='avg_weight', ascending=False).head(10))\n"
   ]
  },
  {
   "cell_type": "markdown",
   "metadata": {},
   "source": [
    "# 2: Latent Semantic Analysis using Singular Value Decomposition\n",
    "\n",
    "Let us perform LSA to tf-idf vector matrix to gain semantic information.  __LSA is performed through a dimensionality reduction technique called singluar value decompositin (SVD).__  SVD is applied to a tf-idf vector matrix and the resulting __components represent clusters of words__ that presumably reflect topics within the corpus.  \n",
    "\n",
    "Here we'll reduce our tf-idf feature space to 20% of its orignial value and take a look at some of the components."
   ]
  },
  {
   "cell_type": "code",
   "execution_count": 17,
   "metadata": {
    "scrolled": false
   },
   "outputs": [
    {
     "name": "stdout",
     "output_type": "stream",
     "text": [
      "Percent variance captured by components: 75.76623696312377\n",
      "\n",
      "Component 0:\n",
      "\n",
      "sent\n",
      "On this subject it might become me better to be silent or to speak with diffidence but a something may be expected the occasion I hope will be admitted a an apology if I venture to say that if a preference upon principle of a free republican government formed upon long and serious reflection after a diligent and impartial inquiry after truth if an attachment to the Constitution of the United States and a conscientious determination to support it until it shall be altered by the judgment and wish of the people expressed in the mode prescribed in it if a respectful attention to the constitution of the individual States and a constant caution and delicacy toward the State government if an equal and impartial regard to the right interest honor and happiness of all the States in the Union without preference or regard to a northern or southern an eastern or western position their various political opinion on unessential point or their personal attachment if a love of virtuous men of all party and denomination if a love of science and letter and a wish to patronize every rational effort to encourage school college university academy and every institution for propagating knowledge virtue and religion among all class of the people not only for their benign influence on the happiness of life in all it stage and class and of society in all it form but a the only mean of preserving our Constitution from it natural enemy the spirit of sophistry the spirit of party the spirit of intrigue the profligacy of corruption and the pestilence of foreign influence which is the angel of destruction to elective government if a love of equal law of justice and humanity in the interior administration if an inclination to improve agriculture commerce and manufacturer for necessity convenience and defense if a spirit of equity and humanity toward the aboriginal nation of America and a disposition to meliorate their condition by inclining them to be more friendly to u and our citizen to be more friendly to them if an inflexible determination to maintain peace and inviolable faith with all nation and that system of neutrality and impartiality among the belligerent power of Europe which ha been adopted by this Government and so solemnly sanctioned by both Houses of Congress and applauded by the legislature of the States and the public opinion until it shall be otherwise ordained by Congress if a personal esteem for the French nation formed in a residence of seven year chiefly among them and a sincere desire to preserve the friendship which ha been so much for the honor and interest of both nation if while the conscious honor and integrity of the people of America and the internal sentiment of their own power and energy must be preserved an earnest endeavor to investigate every just cause and remove every colorable pretense of complaint if an intention to pursue by amicable negotiation a reparation for the injury that have been committed on the commerce of our fellow citizen by whatever nation and if success can not be obtained to lay the fact before the Legislature that they may consider what further measure the honor and interest of the Government and it constituent demand if a resolution to do justice a far a may depend upon me at all time and to all nation and maintain peace friendship and benevolence with all the world if an unshaken confidence in the honor spirit and resource of the American people on which I have so often hazarded my all and never been deceived if elevated idea of the high destiny of this country and of my own duty toward it founded on a knowledge of the moral principle and intellectual improvement of the people deeply engraven on my mind in early life and not obscured but exalted by experience and age and with humble reverence I feel it to be my duty to add if a veneration for the religion of a people who profess and call themselves Christians and a fixed resolution to consider a decent respect for Christianity among the best recommendation for the public service can enable me in any degree to comply with your wish it shall be my strenuous endeavor that this sagacious injunction of the two Houses shall not be without effect    0.506571\n",
      "What ha to be done ha to be done by government and people together or it will not be done at all                                                                                                                                                                                                                                                                                                                                                                                                                                                                                                                                                                                                                                                                                                                                                                                                                                                                                                                                                                                                                                                                                                                                                                                                                                                                                                                                                                                                                                                                                                                                                                                                                                                                                                                                                                                                                                                                                                                                                                                                                                                                                                                                                                                                                                                                                                                                                                                                                                                                                                                                                                                                                                                                                                                                                                                                                                                                                                                                                                                                                                                                                                                                                                                                                                                                                                                                                                                                                                                                                                                                                                                                                                                                                                                                                                                                                                                                                                                                                                                                                                                                                                                                                                                                                                                                     0.484834\n",
      "He ha given to our country a faith which ha become the hope of all people in an anguished world                                                                                                                                                                                                                                                                                                                                                                                                                                                                                                                                                                                                                                                                                                                                                                                                                                                                                                                                                                                                                                                                                                                                                                                                                                                                                                                                                                                                                                                                                                                                                                                                                                                                                                                                                                                                                                                                                                                                                                                                                                                                                                                                                                                                                                                                                                                                                                                                                                                                                                                                                                                                                                                                                                                                                                                                                                                                                                                                                                                                                                                                                                                                                                                                                                                                                                                                                                                                                                                                                                                                                                                                                                                                                                                                                                                                                                                                                                                                                                                                                                                                                                                                                                                                                                                                      0.406638\n",
      "The Government ha been in the hand of the people                                                                                                                                                                                                                                                                                                                                                                                                                                                                                                                                                                                                                                                                                                                                                                                                                                                                                                                                                                                                                                                                                                                                                                                                                                                                                                                                                                                                                                                                                                                                                                                                                                                                                                                                                                                                                                                                                                                                                                                                                                                                                                                                                                                                                                                                                                                                                                                                                                                                                                                                                                                                                                                                                                                                                                                                                                                                                                                                                                                                                                                                                                                                                                                                                                                                                                                                                                                                                                                                                                                                                                                                                                                                                                                                                                                                                                                                                                                                                                                                                                                                                                                                                                                                                                                                                                                     0.406575\n",
      "We are a nation that ha a government not the other way around                                                                                                                                                                                                                                                                                                                                                                                                                                                                                                                                                                                                                                                                                                                                                                                                                                                                                                                                                                                                                                                                                                                                                                                                                                                                                                                                                                                                                                                                                                                                                                                                                                                                                                                                                                                                                                                                                                                                                                                                                                                                                                                                                                                                                                                                                                                                                                                                                                                                                                                                                                                                                                                                                                                                                                                                                                                                                                                                                                                                                                                                                                                                                                                                                                                                                                                                                                                                                                                                                                                                                                                                                                                                                                                                                                                                                                                                                                                                                                                                                                                                                                                                                                                                                                                                                                        0.385519\n",
      "Name: 0, dtype: float64\n",
      "\n",
      "Component 1:\n",
      "\n",
      "sent\n",
      "The whole world is at peace                                                                                   0.458682\n",
      "And so too is all the world                                                                                   0.456162\n",
      "We have come to a new realization of our place in the world and a new appraisal of our Nation by the world    0.427330\n",
      "America stand alone a the world s indispensable nation                                                        0.382470\n",
      "The world economy the world environment the world AIDS crisis the world arm race they affect u all            0.360762\n",
      "Name: 1, dtype: float64\n",
      "\n",
      "Component 2:\n",
      "\n",
      "sent\n",
      "So it ha been                                                                                                                                     0.840175\n",
      "What ha to be done ha to be done by government and people together or it will not be done at all                                                  0.698464\n",
      "The forest ha fallen by the ax of our woodsman the soil ha been made to teem by the tillage of our farmer our commerce ha whitened every ocean    0.529761\n",
      "This provident forecast ha been verified by time                                                                                                  0.491021\n",
      "There ha been a change of government                                                                                                              0.479694\n",
      "Name: 2, dtype: float64\n",
      "\n",
      "Component 3:\n",
      "\n",
      "sent\n",
      "We are one nation and one people                                                         0.591612\n",
      "Our people must give and take                                                            0.540458\n",
      "We are a composite and cosmopolitan people                                               0.540458\n",
      "Now more than ever we must do these thing together a one nation and one people           0.409905\n",
      "Government must learn to take le from people so that people an do more for themselves    0.376038\n",
      "Name: 3, dtype: float64\n",
      "\n",
      "Component 4:\n",
      "\n",
      "sent\n",
      "Our people must give and take                 0.578134\n",
      "We are a composite and cosmopolitan people    0.578134\n",
      "America                                       0.486994\n",
      "America first                                 0.486994\n",
      "No country is more loved by it people         0.452700\n",
      "Name: 4, dtype: float64\n",
      "\n",
      "Component 5:\n",
      "\n",
      "sent\n",
      "My fellow citizen                                       0.460598\n",
      "My fellow citizen                                       0.460598\n",
      "My fellow citizen our Nation is poised for greatness    0.419719\n",
      "Beyond that my fellow citizen the future is up to u     0.385068\n",
      "We are one nation and one people                        0.337119\n",
      "Name: 5, dtype: float64\n"
     ]
    }
   ],
   "source": [
    "from sklearn.decomposition import TruncatedSVD\n",
    "from sklearn.pipeline import make_pipeline\n",
    "from sklearn.preprocessing import Normalizer\n",
    "\n",
    "# Reduce feature space to 20% of original\n",
    "svd = TruncatedSVD(1000)\n",
    "\n",
    "# Make pipeline to run svd and normalize results\n",
    "lsa_pipe = make_pipeline(svd, Normalizer())\n",
    "\n",
    "# Fit with training data, transform test data\n",
    "X_train_lsa = lsa_pipe.fit_transform(X_train_tfidf)\n",
    "X_test_lsa = lsa_pipe.transform(X_test_tfidf)\n",
    "\n",
    "# Examine variance captured in reduced feature space\n",
    "variance_explained = svd.explained_variance_ratio_\n",
    "total_variance = variance_explained.sum()\n",
    "print('Percent variance captured by components:', total_variance*100)\n",
    "\n",
    "sent_by_component = pd.DataFrame(X_train_lsa, index=X_train)\n",
    "\n",
    "# Look at values from first 5 components\n",
    "for i in range(6):\n",
    "    print('\\nComponent {}:\\n'.format(i))\n",
    "    print(sent_by_component.loc[:, i].sort_values(ascending=False)[:5]) \n",
    "    "
   ]
  },
  {
   "cell_type": "markdown",
   "metadata": {},
   "source": [
    "Using SVC, we were able to reduce the feature space to approximately 10% of it's original size (5,965 down to 600 columns) and still capture 55% of the variation.  Not too bad.  We could increase the feature space size to try and capture more variation, but my local computing environment is maxed out, so we'll stick with the current setup.\n",
    "\n",
    "What about the components?  Looking at the first 5 sentences of the first 6 components, we get the following semantic information:\n",
    "\n",
    "* Component 0 - About the government and people.\n",
    "* Component 1 - About the world.\n",
    "* Component 2 - About American government and people important to the world.\n",
    "* Component 3 - About nation, government, people, cosmopolitan working together.\n",
    "* Component 4 - About America to be prioritize first.\n",
    "* Component 5 - About citizen'"
   ]
  },
  {
   "cell_type": "markdown",
   "metadata": {},
   "source": [
    "#  Word2vec using Gensim\n",
    "The conceptual difference is that LSA creates vector representations of sentences based on the words in them, while word2vec creates representations of individual words, based on the words around them.\n",
    "\n",
    "Word2vec is useful for any time when computers need to parse requests written by humans.\n"
   ]
  },
  {
   "cell_type": "markdown",
   "metadata": {},
   "source": [
    "#### Loading Gensim and nltk libraries"
   ]
  },
  {
   "cell_type": "code",
   "execution_count": 18,
   "metadata": {},
   "outputs": [],
   "source": [
    "import gensim\n",
    "from gensim.utils import simple_preprocess\n",
    "from gensim.parsing.preprocessing import STOPWORDS\n",
    "from nltk.stem import WordNetLemmatizer, SnowballStemmer\n",
    "from nltk.stem.porter import *\n",
    "import numpy as np\n",
    "np.random.seed(400)"
   ]
  },
  {
   "cell_type": "code",
   "execution_count": 19,
   "metadata": {
    "scrolled": true
   },
   "outputs": [
    {
     "name": "stderr",
     "output_type": "stream",
     "text": [
      "[nltk_data] Downloading package wordnet to\n",
      "[nltk_data]     C:\\Users\\catan\\AppData\\Roaming\\nltk_data...\n",
      "[nltk_data]   Package wordnet is already up-to-date!\n"
     ]
    },
    {
     "data": {
      "text/plain": [
       "True"
      ]
     },
     "execution_count": 19,
     "metadata": {},
     "output_type": "execute_result"
    }
   ],
   "source": [
    "import nltk\n",
    "nltk.download('wordnet')\n"
   ]
  },
  {
   "cell_type": "code",
   "execution_count": 20,
   "metadata": {},
   "outputs": [],
   "source": [
    "###Let us use the same President's inaugural speech data set."
   ]
  },
  {
   "cell_type": "code",
   "execution_count": 21,
   "metadata": {},
   "outputs": [
    {
     "data": {
      "text/html": [
       "<div>\n",
       "<style scoped>\n",
       "    .dataframe tbody tr th:only-of-type {\n",
       "        vertical-align: middle;\n",
       "    }\n",
       "\n",
       "    .dataframe tbody tr th {\n",
       "        vertical-align: top;\n",
       "    }\n",
       "\n",
       "    .dataframe thead th {\n",
       "        text-align: right;\n",
       "    }\n",
       "</style>\n",
       "<table border=\"1\" class=\"dataframe\">\n",
       "  <thead>\n",
       "    <tr style=\"text-align: right;\">\n",
       "      <th></th>\n",
       "      <th>sent</th>\n",
       "      <th>president</th>\n",
       "    </tr>\n",
       "  </thead>\n",
       "  <tbody>\n",
       "    <tr>\n",
       "      <th>0</th>\n",
       "      <td>Fellow Citizens of the Senate and of the House...</td>\n",
       "      <td>Washington</td>\n",
       "    </tr>\n",
       "    <tr>\n",
       "      <th>1</th>\n",
       "      <td>Among the vicissitude incident to life no even...</td>\n",
       "      <td>Washington</td>\n",
       "    </tr>\n",
       "    <tr>\n",
       "      <th>2</th>\n",
       "      <td>On the one hand I wa summoned by my Country wh...</td>\n",
       "      <td>Washington</td>\n",
       "    </tr>\n",
       "    <tr>\n",
       "      <th>3</th>\n",
       "      <td>On the other hand the magnitude and difficulty...</td>\n",
       "      <td>Washington</td>\n",
       "    </tr>\n",
       "    <tr>\n",
       "      <th>4</th>\n",
       "      <td>In this conflict of emotion all I dare aver is...</td>\n",
       "      <td>Washington</td>\n",
       "    </tr>\n",
       "  </tbody>\n",
       "</table>\n",
       "</div>"
      ],
      "text/plain": [
       "                                                sent   president\n",
       "0  Fellow Citizens of the Senate and of the House...  Washington\n",
       "1  Among the vicissitude incident to life no even...  Washington\n",
       "2  On the one hand I wa summoned by my Country wh...  Washington\n",
       "3  On the other hand the magnitude and difficulty...  Washington\n",
       "4  In this conflict of emotion all I dare aver is...  Washington"
      ]
     },
     "execution_count": 21,
     "metadata": {},
     "output_type": "execute_result"
    }
   ],
   "source": [
    "df_document=df\n",
    "df_document.head()"
   ]
  },
  {
   "cell_type": "markdown",
   "metadata": {},
   "source": [
    "#### Load the dataset from the CSV and save it to 'data_text'"
   ]
  },
  {
   "cell_type": "code",
   "execution_count": 22,
   "metadata": {},
   "outputs": [
    {
     "data": {
      "text/html": [
       "<div>\n",
       "<style scoped>\n",
       "    .dataframe tbody tr th:only-of-type {\n",
       "        vertical-align: middle;\n",
       "    }\n",
       "\n",
       "    .dataframe tbody tr th {\n",
       "        vertical-align: top;\n",
       "    }\n",
       "\n",
       "    .dataframe thead th {\n",
       "        text-align: right;\n",
       "    }\n",
       "</style>\n",
       "<table border=\"1\" class=\"dataframe\">\n",
       "  <thead>\n",
       "    <tr style=\"text-align: right;\">\n",
       "      <th></th>\n",
       "      <th>sent</th>\n",
       "      <th>index</th>\n",
       "    </tr>\n",
       "  </thead>\n",
       "  <tbody>\n",
       "    <tr>\n",
       "      <th>0</th>\n",
       "      <td>Fellow Citizens of the Senate and of the House...</td>\n",
       "      <td>0</td>\n",
       "    </tr>\n",
       "    <tr>\n",
       "      <th>1</th>\n",
       "      <td>Among the vicissitude incident to life no even...</td>\n",
       "      <td>1</td>\n",
       "    </tr>\n",
       "    <tr>\n",
       "      <th>2</th>\n",
       "      <td>On the one hand I wa summoned by my Country wh...</td>\n",
       "      <td>2</td>\n",
       "    </tr>\n",
       "    <tr>\n",
       "      <th>3</th>\n",
       "      <td>On the other hand the magnitude and difficulty...</td>\n",
       "      <td>3</td>\n",
       "    </tr>\n",
       "    <tr>\n",
       "      <th>4</th>\n",
       "      <td>In this conflict of emotion all I dare aver is...</td>\n",
       "      <td>4</td>\n",
       "    </tr>\n",
       "  </tbody>\n",
       "</table>\n",
       "</div>"
      ],
      "text/plain": [
       "                                                sent  index\n",
       "0  Fellow Citizens of the Senate and of the House...      0\n",
       "1  Among the vicissitude incident to life no even...      1\n",
       "2  On the one hand I wa summoned by my Country wh...      2\n",
       "3  On the other hand the magnitude and difficulty...      3\n",
       "4  In this conflict of emotion all I dare aver is...      4"
      ]
     },
     "execution_count": 22,
     "metadata": {},
     "output_type": "execute_result"
    }
   ],
   "source": [
    "# We only need the Headlines text column from the data\n",
    "data_text = df_document[['sent']];\n",
    "\n",
    "data_text['index'] = data_text.index\n",
    "\n",
    "df_document = data_text\n",
    "df_document.head()"
   ]
  },
  {
   "cell_type": "markdown",
   "metadata": {},
   "source": [
    "### Lemmatizer\n",
    "   - Convert past tense to present tense\n",
    "   - Example it convert the word __went__ to __go__"
   ]
  },
  {
   "cell_type": "code",
   "execution_count": 23,
   "metadata": {},
   "outputs": [
    {
     "name": "stdout",
     "output_type": "stream",
     "text": [
      "go\n"
     ]
    }
   ],
   "source": [
    "# Example of lemmatizer\n",
    "print(WordNetLemmatizer().lemmatize('went', pos = 'v')) # past tense to present tense"
   ]
  },
  {
   "cell_type": "markdown",
   "metadata": {},
   "source": [
    "### Stemmer \n",
    "Get the root word of a word."
   ]
  },
  {
   "cell_type": "markdown",
   "metadata": {},
   "source": [
    "#### df_document"
   ]
  },
  {
   "cell_type": "code",
   "execution_count": 25,
   "metadata": {
    "scrolled": true
   },
   "outputs": [
    {
     "data": {
      "text/html": [
       "<div>\n",
       "<style scoped>\n",
       "    .dataframe tbody tr th:only-of-type {\n",
       "        vertical-align: middle;\n",
       "    }\n",
       "\n",
       "    .dataframe tbody tr th {\n",
       "        vertical-align: top;\n",
       "    }\n",
       "\n",
       "    .dataframe thead th {\n",
       "        text-align: right;\n",
       "    }\n",
       "</style>\n",
       "<table border=\"1\" class=\"dataframe\">\n",
       "  <thead>\n",
       "    <tr style=\"text-align: right;\">\n",
       "      <th></th>\n",
       "      <th>sent</th>\n",
       "      <th>index</th>\n",
       "    </tr>\n",
       "  </thead>\n",
       "  <tbody>\n",
       "    <tr>\n",
       "      <th>0</th>\n",
       "      <td>Fellow Citizens of the Senate and of the House...</td>\n",
       "      <td>0</td>\n",
       "    </tr>\n",
       "    <tr>\n",
       "      <th>1</th>\n",
       "      <td>Among the vicissitude incident to life no even...</td>\n",
       "      <td>1</td>\n",
       "    </tr>\n",
       "    <tr>\n",
       "      <th>2</th>\n",
       "      <td>On the one hand I wa summoned by my Country wh...</td>\n",
       "      <td>2</td>\n",
       "    </tr>\n",
       "    <tr>\n",
       "      <th>3</th>\n",
       "      <td>On the other hand the magnitude and difficulty...</td>\n",
       "      <td>3</td>\n",
       "    </tr>\n",
       "    <tr>\n",
       "      <th>4</th>\n",
       "      <td>In this conflict of emotion all I dare aver is...</td>\n",
       "      <td>4</td>\n",
       "    </tr>\n",
       "  </tbody>\n",
       "</table>\n",
       "</div>"
      ],
      "text/plain": [
       "                                                sent  index\n",
       "0  Fellow Citizens of the Senate and of the House...      0\n",
       "1  Among the vicissitude incident to life no even...      1\n",
       "2  On the one hand I wa summoned by my Country wh...      2\n",
       "3  On the other hand the magnitude and difficulty...      3\n",
       "4  In this conflict of emotion all I dare aver is...      4"
      ]
     },
     "execution_count": 25,
     "metadata": {},
     "output_type": "execute_result"
    }
   ],
   "source": [
    "\n",
    "df_document.head()"
   ]
  },
  {
   "cell_type": "code",
   "execution_count": 26,
   "metadata": {},
   "outputs": [
    {
     "data": {
      "text/plain": [
       "5050"
      ]
     },
     "execution_count": 26,
     "metadata": {},
     "output_type": "execute_result"
    }
   ],
   "source": [
    "len(df_document)"
   ]
  },
  {
   "cell_type": "markdown",
   "metadata": {},
   "source": [
    "#### Write a function to perform the pre processing steps on the entire dataset"
   ]
  },
  {
   "cell_type": "code",
   "execution_count": 27,
   "metadata": {},
   "outputs": [],
   "source": [
    "def lemmatize_stemming(text):\n",
    "    return stemmer.stem(WordNetLemmatizer().lemmatize(text, pos='v'))\n",
    "\n",
    "# Tokenize and lemmatize\n",
    "def preprocess(text):\n",
    "    \n",
    "    result = []\n",
    "    \n",
    "    for token in gensim.utils.simple_preprocess(text) :\n",
    "        \n",
    "        if token not in gensim.parsing.preprocessing.STOPWORDS and len(token) > 3:\n",
    "            \n",
    "            # TODO: Apply lemmatize_stemming() on the token, then add to the results list\n",
    "            result.append(lemmatize_stemming(token))\n",
    "    \n",
    "    return result\n",
    "\n"
   ]
  },
  {
   "cell_type": "code",
   "execution_count": 28,
   "metadata": {},
   "outputs": [
    {
     "name": "stdout",
     "output_type": "stream",
     "text": [
      "Original df_document: \n",
      "['From', 'this', 'day', 'forward', 'a', 'new', 'vision', 'will', 'govern', 'our', 'land']\n",
      "\n",
      "\n",
      "Tokenized and lemmatized document: \n",
      "['forward', 'vision', 'govern', 'land']\n"
     ]
    }
   ],
   "source": [
    "#Preview a document after preprocessing\n",
    "df_document_num = 5000\n",
    "doc_sample = df_document[df_document['index'] == df_document_num].values[0][0]\n",
    "\n",
    "print(\"Original df_document: \")\n",
    "\n",
    "words = []\n",
    "\n",
    "for word in doc_sample.split(' '):\n",
    "    words.append(word)\n",
    "    \n",
    "print(words)\n",
    "print(\"\\n\\nTokenized and lemmatized document: \")\n",
    "print(preprocess(doc_sample))"
   ]
  },
  {
   "cell_type": "markdown",
   "metadata": {},
   "source": [
    "#### Let preprocess all the State Union Adress by mapping it"
   ]
  },
  {
   "cell_type": "markdown",
   "metadata": {},
   "source": [
    "#### processed_docs"
   ]
  },
  {
   "cell_type": "code",
   "execution_count": 29,
   "metadata": {},
   "outputs": [
    {
     "data": {
      "text/plain": [
       "0                  [fellow, citizen, senat, hous, repres]\n",
       "1       [vicissitud, incid, life, event, fill, greater...\n",
       "2       [hand, summon, countri, voic, hear, vener, lov...\n",
       "3       [hand, magnitud, difficulti, trust, voic, coun...\n",
       "4       [conflict, emot, dare, aver, faith, studi, col...\n",
       "                              ...                        \n",
       "5045                                     [america, great]\n",
       "5046                                              [thank]\n",
       "5047                              [bless, bless, america]\n",
       "5048                                              [thank]\n",
       "5049                                     [bless, america]\n",
       "Name: sent, Length: 5050, dtype: object"
      ]
     },
     "execution_count": 29,
     "metadata": {},
     "output_type": "execute_result"
    }
   ],
   "source": [
    "# TODO: preprocess all the State Union Address, saving the list of results as 'processed_docs'\n",
    "processed_docs = df_document['sent'].map(preprocess)\n",
    "processed_docs"
   ]
  },
  {
   "cell_type": "markdown",
   "metadata": {},
   "source": [
    "## Gensim Bag of words on the dataset\n",
    "\n",
    "Now let's create a dictionary from 'processed_docs' containing the number of times a word appears in the training set. To do that, let's pass `processed_docs` to [`gensim.corpora.Dictionary()`] and call it '`dictionary`'."
   ]
  },
  {
   "cell_type": "markdown",
   "metadata": {},
   "source": [
    "#### dictionary"
   ]
  },
  {
   "cell_type": "code",
   "execution_count": 30,
   "metadata": {},
   "outputs": [
    {
     "data": {
      "text/plain": [
       "<gensim.corpora.dictionary.Dictionary at 0x1fb05ddc688>"
      ]
     },
     "execution_count": 30,
     "metadata": {},
     "output_type": "execute_result"
    }
   ],
   "source": [
    "# Create a dictionary from 'processed_docs' containing the number of times a word appears \n",
    "#in the training set using gensim.corpora.Dictionary and call it 'dictionary'\n",
    "\n",
    "dictionary = gensim.corpora.Dictionary(processed_docs)\n",
    "dictionary"
   ]
  },
  {
   "cell_type": "code",
   "execution_count": 31,
   "metadata": {},
   "outputs": [
    {
     "name": "stdout",
     "output_type": "stream",
     "text": [
      "0 citizen\n",
      "1 fellow\n",
      "2 hous\n",
      "3 repres\n",
      "4 senat\n",
      "5 anxieti\n",
      "6 event\n",
      "7 fill\n",
      "8 greater\n",
      "9 incid\n",
      "10 life\n",
      "11 month\n",
      "12 notif\n",
      "13 order\n",
      "14 present\n",
      "15 receiv\n",
      "16 transmit\n",
      "17 vicissitud\n",
      "18 addit\n",
      "19 asylum\n",
      "20 choos\n"
     ]
    }
   ],
   "source": [
    "# Checking dictionary created\n",
    "count = 0\n",
    "\n",
    "for k, v in dictionary.iteritems():\n",
    "    \n",
    "    print(k, v)\n",
    "    \n",
    "    count += 1\n",
    "    \n",
    "    if count > 20:\n",
    "        break"
   ]
  },
  {
   "cell_type": "markdown",
   "metadata": {},
   "source": [
    "#### Gensim Filter Extremes\n",
    "Remove very rare and very common words:\n",
    "\n",
    "- words appearing less than 5 times\n",
    "- words appearing in more than 50% of all documents"
   ]
  },
  {
   "cell_type": "code",
   "execution_count": 32,
   "metadata": {},
   "outputs": [],
   "source": [
    "# TODO: apply dictionary.filter_extremes() with the parameters mentioned above\n",
    "dictionary.filter_extremes(no_below=5, no_above=0.5, keep_n=10000)"
   ]
  },
  {
   "cell_type": "markdown",
   "metadata": {},
   "source": [
    "#### Gensim bow_corpus\n",
    "Create the Bag-of-words model for each document i.e for each document we create a dictionary reporting how many\n",
    "words and how many times those words appear. Save this to 'bow_corpus"
   ]
  },
  {
   "cell_type": "code",
   "execution_count": 33,
   "metadata": {},
   "outputs": [],
   "source": [
    "bow_corpus = [dictionary.doc2bow(doc) for doc in processed_docs]"
   ]
  },
  {
   "cell_type": "code",
   "execution_count": 35,
   "metadata": {},
   "outputs": [
    {
     "data": {
      "text/plain": [
       "[(99, 1), (429, 1), (1342, 1), (1771, 1)]"
      ]
     },
     "execution_count": 35,
     "metadata": {},
     "output_type": "execute_result"
    }
   ],
   "source": [
    "#Checking Bag of Words corpus for our sample document --> (token_id, token_count)\n",
    "bow_corpus[df_document_num]"
   ]
  },
  {
   "cell_type": "code",
   "execution_count": 36,
   "metadata": {},
   "outputs": [
    {
     "name": "stdout",
     "output_type": "stream",
     "text": [
      "Word 99 (\"govern\") appears 1 time.\n",
      "Word 429 (\"land\") appears 1 time.\n",
      "Word 1342 (\"forward\") appears 1 time.\n",
      "Word 1771 (\"vision\") appears 1 time.\n"
     ]
    }
   ],
   "source": [
    "#Preview BOW for our sample preprocessed document\n",
    "\n",
    "bow_doc_5000 = bow_corpus[df_document_num]\n",
    "\n",
    "for i in range(len(bow_doc_5000)):\n",
    "    \n",
    "    print(\"Word {} (\\\"{}\\\") appears {} time.\".format(bow_doc_5000[i][0], \n",
    "                                                     dictionary[bow_doc_5000[i][0]], \n",
    "                                                     bow_doc_5000[i][1]))"
   ]
  },
  {
   "cell_type": "markdown",
   "metadata": {},
   "source": [
    "## Gensim TF-IDF on our document set ##\n",
    "\n",
    "While performing TF-IDF on the corpus is not necessary for LDA implemention using the gensim model, it is recemmended. TF-IDF expects a bag-of-words (integer values) training corpus during initialization. During transformation, it will take a vector and return another vector of the same dimensionality.\n"
   ]
  },
  {
   "cell_type": "code",
   "execution_count": 37,
   "metadata": {},
   "outputs": [
    {
     "name": "stdout",
     "output_type": "stream",
     "text": [
      "TfidfModel(num_docs=5050, num_nnz=46747)\n"
     ]
    }
   ],
   "source": [
    "#Create tf-idf model object using models.TfidfModel on 'bow_corpus' and save it to 'tfidf'\n",
    "\n",
    "from gensim import corpora, models\n",
    "\n",
    "tfidf = models.TfidfModel(bow_corpus)\n",
    "print(tfidf)"
   ]
  },
  {
   "cell_type": "code",
   "execution_count": 38,
   "metadata": {},
   "outputs": [
    {
     "name": "stdout",
     "output_type": "stream",
     "text": [
      "[(5, 0.30690157965185355), (6, 0.25259899192333496), (7, 0.3552271619224823), (8, 0.2434035164464697), (9, 0.3282859904705385), (10, 0.1755543019864634), (11, 0.3338427511037973), (12, 0.21927872579951713), (13, 0.20632183980157784), (14, 0.2721326708688994), (15, 0.3400546809877271), (16, 0.3552271619224823)]\n"
     ]
    }
   ],
   "source": [
    "#Apply transformation to the entire corpus and call it 'corpus_tfidf'\n",
    "corpus_tfidf = tfidf[bow_corpus]\n",
    "print(corpus_tfidf[1])"
   ]
  },
  {
   "cell_type": "code",
   "execution_count": 39,
   "metadata": {},
   "outputs": [
    {
     "name": "stdout",
     "output_type": "stream",
     "text": [
      "[(0, 0.28491831196279843),\n",
      " (1, 0.34748936481354065),\n",
      " (2, 0.53615712987792),\n",
      " (3, 0.4723809490357269),\n",
      " (4, 0.53615712987792)]\n"
     ]
    }
   ],
   "source": [
    "#Preview TF-IDF scores for our first document --> --> (token_id, tfidf score)\n",
    "\n",
    "from pprint import pprint\n",
    "\n",
    "for doc in corpus_tfidf:\n",
    "    \n",
    "    pprint(doc)\n",
    "    \n",
    "    break"
   ]
  },
  {
   "cell_type": "markdown",
   "metadata": {},
   "source": [
    "## Running Gensim LDA using Bag of Words"
   ]
  },
  {
   "cell_type": "code",
   "execution_count": 40,
   "metadata": {},
   "outputs": [],
   "source": [
    "# Train your lda model using gensim.models.LdaMulticore and save it to 'lda_model'\n",
    "lda_model = gensim.models.LdaMulticore(bow_corpus, \n",
    "                                       num_topics=10, \n",
    "                                       id2word = dictionary, \n",
    "                                       passes = 2, \n",
    "                                       workers=2)"
   ]
  },
  {
   "cell_type": "code",
   "execution_count": 41,
   "metadata": {},
   "outputs": [
    {
     "name": "stdout",
     "output_type": "stream",
     "text": [
      "Topic: 0 \n",
      "Words: 0.038*\"america\" + 0.016*\"bless\" + 0.014*\"countri\" + 0.012*\"govern\" + 0.011*\"today\" + 0.011*\"hope\" + 0.011*\"american\" + 0.010*\"state\" + 0.010*\"nation\" + 0.010*\"unit\"\n",
      "\n",
      "\n",
      "Topic: 1 \n",
      "Words: 0.027*\"nation\" + 0.015*\"citizen\" + 0.013*\"peac\" + 0.013*\"great\" + 0.012*\"countri\" + 0.011*\"freedom\" + 0.011*\"peopl\" + 0.009*\"come\" + 0.009*\"protect\" + 0.008*\"world\"\n",
      "\n",
      "\n",
      "Topic: 2 \n",
      "Words: 0.014*\"histori\" + 0.014*\"nation\" + 0.011*\"work\" + 0.010*\"freedom\" + 0.009*\"communiti\" + 0.009*\"thank\" + 0.009*\"world\" + 0.009*\"place\" + 0.008*\"live\" + 0.008*\"centuri\"\n",
      "\n",
      "\n",
      "Topic: 3 \n",
      "Words: 0.021*\"time\" + 0.018*\"nation\" + 0.016*\"american\" + 0.014*\"world\" + 0.013*\"chang\" + 0.011*\"great\" + 0.009*\"need\" + 0.009*\"peopl\" + 0.009*\"know\" + 0.008*\"freedom\"\n",
      "\n",
      "\n",
      "Topic: 4 \n",
      "Words: 0.019*\"year\" + 0.017*\"work\" + 0.015*\"nation\" + 0.012*\"countri\" + 0.011*\"peac\" + 0.010*\"faith\" + 0.010*\"world\" + 0.010*\"govern\" + 0.010*\"time\" + 0.009*\"peopl\"\n",
      "\n",
      "\n",
      "Topic: 5 \n",
      "Words: 0.021*\"peopl\" + 0.019*\"america\" + 0.017*\"right\" + 0.012*\"nation\" + 0.010*\"believ\" + 0.009*\"promis\" + 0.009*\"state\" + 0.009*\"govern\" + 0.009*\"know\" + 0.009*\"power\"\n",
      "\n",
      "\n",
      "Topic: 6 \n",
      "Words: 0.023*\"govern\" + 0.022*\"world\" + 0.020*\"peopl\" + 0.012*\"nation\" + 0.010*\"life\" + 0.010*\"free\" + 0.009*\"shall\" + 0.009*\"constitut\" + 0.008*\"american\" + 0.008*\"time\"\n",
      "\n",
      "\n",
      "Topic: 7 \n",
      "Words: 0.017*\"america\" + 0.014*\"american\" + 0.014*\"power\" + 0.011*\"nation\" + 0.010*\"challeng\" + 0.009*\"thing\" + 0.008*\"peopl\" + 0.007*\"execut\" + 0.007*\"govern\" + 0.007*\"parti\"\n",
      "\n",
      "\n",
      "Topic: 8 \n",
      "Words: 0.025*\"time\" + 0.021*\"govern\" + 0.011*\"public\" + 0.010*\"citizen\" + 0.009*\"life\" + 0.009*\"prosper\" + 0.008*\"child\" + 0.007*\"peopl\" + 0.007*\"great\" + 0.007*\"presid\"\n",
      "\n",
      "\n",
      "Topic: 9 \n",
      "Words: 0.020*\"peopl\" + 0.019*\"nation\" + 0.017*\"govern\" + 0.016*\"state\" + 0.012*\"respons\" + 0.011*\"power\" + 0.011*\"mean\" + 0.011*\"freedom\" + 0.010*\"american\" + 0.009*\"world\"\n",
      "\n",
      "\n"
     ]
    }
   ],
   "source": [
    "#For each topic, we will explore the words occuring in that topic and its relative weight\n",
    "\n",
    "for idx, topic in lda_model.print_topics(-1):\n",
    "    \n",
    "    print(\"Topic: {} \\nWords: {}\".format(idx, topic ))\n",
    "    print(\"\\n\")"
   ]
  },
  {
   "cell_type": "markdown",
   "metadata": {},
   "source": [
    "## Running Gensim LDA using TF-IDF "
   ]
  },
  {
   "cell_type": "code",
   "execution_count": 42,
   "metadata": {},
   "outputs": [],
   "source": [
    "# Define lda model using corpus_tfidf, again using gensim.models.LdaMulticore()\n",
    "lda_model_tfidf = gensim.models.LdaMulticore(corpus_tfidf, \n",
    "                                             num_topics=10, \n",
    "                                             id2word = dictionary, \n",
    "                                             passes = 2, \n",
    "                                             workers=4)"
   ]
  },
  {
   "cell_type": "code",
   "execution_count": 43,
   "metadata": {},
   "outputs": [
    {
     "name": "stdout",
     "output_type": "stream",
     "text": [
      "Topic: 0 Word: 0.009*\"govern\" + 0.007*\"help\" + 0.007*\"nation\" + 0.006*\"peac\" + 0.005*\"countri\" + 0.005*\"begin\" + 0.004*\"time\" + 0.004*\"long\" + 0.004*\"peopl\" + 0.004*\"faith\"\n",
      "\n",
      "\n",
      "Topic: 1 Word: 0.007*\"time\" + 0.007*\"state\" + 0.007*\"govern\" + 0.006*\"power\" + 0.005*\"peopl\" + 0.005*\"world\" + 0.005*\"america\" + 0.005*\"nation\" + 0.005*\"citizen\" + 0.004*\"american\"\n",
      "\n",
      "\n",
      "Topic: 2 Word: 0.007*\"world\" + 0.007*\"nation\" + 0.006*\"govern\" + 0.005*\"protect\" + 0.005*\"shall\" + 0.005*\"futur\" + 0.005*\"constitut\" + 0.005*\"promis\" + 0.005*\"citizen\" + 0.005*\"peopl\"\n",
      "\n",
      "\n",
      "Topic: 3 Word: 0.009*\"come\" + 0.007*\"great\" + 0.007*\"nation\" + 0.005*\"govern\" + 0.005*\"time\" + 0.005*\"world\" + 0.005*\"american\" + 0.004*\"respons\" + 0.004*\"peopl\" + 0.004*\"turn\"\n",
      "\n",
      "\n",
      "Topic: 4 Word: 0.008*\"peopl\" + 0.007*\"nation\" + 0.006*\"good\" + 0.006*\"govern\" + 0.004*\"principl\" + 0.004*\"pledg\" + 0.004*\"liberti\" + 0.004*\"state\" + 0.004*\"right\" + 0.004*\"time\"\n",
      "\n",
      "\n",
      "Topic: 5 Word: 0.008*\"thank\" + 0.006*\"nation\" + 0.006*\"govern\" + 0.006*\"america\" + 0.006*\"peopl\" + 0.005*\"world\" + 0.005*\"countri\" + 0.005*\"spirit\" + 0.004*\"state\" + 0.004*\"shall\"\n",
      "\n",
      "\n",
      "Topic: 6 Word: 0.008*\"american\" + 0.008*\"world\" + 0.007*\"govern\" + 0.007*\"peopl\" + 0.006*\"nation\" + 0.006*\"shall\" + 0.005*\"countri\" + 0.005*\"great\" + 0.005*\"peac\" + 0.005*\"know\"\n",
      "\n",
      "\n",
      "Topic: 7 Word: 0.006*\"nation\" + 0.006*\"state\" + 0.006*\"moment\" + 0.005*\"right\" + 0.005*\"fellow\" + 0.005*\"citizen\" + 0.005*\"public\" + 0.005*\"peopl\" + 0.005*\"countri\" + 0.004*\"action\"\n",
      "\n",
      "\n",
      "Topic: 8 Word: 0.009*\"america\" + 0.008*\"peopl\" + 0.007*\"shall\" + 0.006*\"free\" + 0.006*\"work\" + 0.005*\"govern\" + 0.005*\"freedom\" + 0.005*\"nation\" + 0.005*\"state\" + 0.005*\"peac\"\n",
      "\n",
      "\n",
      "Topic: 9 Word: 0.008*\"nation\" + 0.007*\"peopl\" + 0.007*\"power\" + 0.006*\"life\" + 0.005*\"year\" + 0.005*\"countri\" + 0.005*\"govern\" + 0.005*\"great\" + 0.005*\"challeng\" + 0.004*\"servic\"\n",
      "\n",
      "\n"
     ]
    }
   ],
   "source": [
    "# For each topic, we will explore the words occuring in that topic and its relative weight\n",
    "for idx, topic in lda_model_tfidf.print_topics(-1):\n",
    "    \n",
    "    print(\"Topic: {} Word: {}\".format(idx, topic))\n",
    "    print(\"\\n\")"
   ]
  },
  {
   "cell_type": "code",
   "execution_count": 44,
   "metadata": {},
   "outputs": [
    {
     "data": {
      "text/plain": [
       "['record',\n",
       " 'progress',\n",
       " 'republ',\n",
       " 'materi',\n",
       " 'spiritu',\n",
       " 'prof',\n",
       " 'wisdom',\n",
       " 'inherit',\n",
       " 'polici',\n",
       " 'noninvolv',\n",
       " 'world',\n",
       " 'affair']"
      ]
     },
     "execution_count": 44,
     "metadata": {},
     "output_type": "execute_result"
    }
   ],
   "source": [
    "#Text of sample document 4310\n",
    "processed_docs[2500]"
   ]
  },
  {
   "cell_type": "code",
   "execution_count": 45,
   "metadata": {},
   "outputs": [
    {
     "name": "stdout",
     "output_type": "stream",
     "text": [
      "\n",
      "Score: 0.5044230222702026\t \n",
      "Topic: 0.027*\"nation\" + 0.015*\"citizen\" + 0.013*\"peac\" + 0.013*\"great\" + 0.012*\"countri\" + 0.011*\"freedom\" + 0.011*\"peopl\" + 0.009*\"come\" + 0.009*\"protect\" + 0.008*\"world\"\n",
      "\n",
      "Score: 0.4228091239929199\t \n",
      "Topic: 0.021*\"time\" + 0.018*\"nation\" + 0.016*\"american\" + 0.014*\"world\" + 0.013*\"chang\" + 0.011*\"great\" + 0.009*\"need\" + 0.009*\"peopl\" + 0.009*\"know\" + 0.008*\"freedom\"\n"
     ]
    }
   ],
   "source": [
    "#Check which topic our test document belongs to using the LDA Bag of Words model.\n",
    "\n",
    "document_num = 2500\n",
    "# Our test document is document number 2500\n",
    "\n",
    "for index, score in sorted(lda_model[bow_corpus[document_num]], key=lambda tup: -1*tup[1]):\n",
    "\n",
    "    print(\"\\nScore: {}\\t \\nTopic: {}\".format(score, lda_model.print_topic(index, 10)))"
   ]
  },
  {
   "cell_type": "markdown",
   "metadata": {},
   "source": [
    "## Performance evaluation by classifying sample document using Gensim LDA TF-IDF model"
   ]
  },
  {
   "cell_type": "code",
   "execution_count": 46,
   "metadata": {},
   "outputs": [
    {
     "name": "stdout",
     "output_type": "stream",
     "text": [
      "\n",
      "Score: 0.9181365966796875\t \n",
      "Topic: 0.008*\"thank\" + 0.006*\"nation\" + 0.006*\"govern\" + 0.006*\"america\" + 0.006*\"peopl\" + 0.005*\"world\" + 0.005*\"countri\" + 0.005*\"spirit\" + 0.004*\"state\" + 0.004*\"shall\"\n"
     ]
    }
   ],
   "source": [
    "'''\n",
    "Check which topic our test document belongs to using the LDA TF-IDF model.\n",
    "'''\n",
    "# Our test document is document number 2500\n",
    "for index, score in sorted(lda_model_tfidf[bow_corpus[document_num]], key=lambda tup: -1*tup[1]):\n",
    "\n",
    "    print(\"\\nScore: {}\\t \\nTopic: {}\".format(score, lda_model_tfidf.print_topic(index, 10)))"
   ]
  },
  {
   "cell_type": "markdown",
   "metadata": {},
   "source": [
    "## Testing model on unseen document ##"
   ]
  },
  {
   "cell_type": "code",
   "execution_count": 47,
   "metadata": {},
   "outputs": [
    {
     "name": "stdout",
     "output_type": "stream",
     "text": [
      "Score: 0.6999128460884094\t Topic: 0.023*\"govern\" + 0.022*\"world\" + 0.020*\"peopl\" + 0.012*\"nation\" + 0.010*\"life\"\n",
      "Score: 0.03334837779402733\t Topic: 0.020*\"peopl\" + 0.019*\"nation\" + 0.017*\"govern\" + 0.016*\"state\" + 0.012*\"respons\"\n",
      "Score: 0.03334662690758705\t Topic: 0.038*\"america\" + 0.016*\"bless\" + 0.014*\"countri\" + 0.012*\"govern\" + 0.011*\"today\"\n",
      "Score: 0.03334618732333183\t Topic: 0.017*\"america\" + 0.014*\"american\" + 0.014*\"power\" + 0.011*\"nation\" + 0.010*\"challeng\"\n",
      "Score: 0.033345777541399\t Topic: 0.019*\"year\" + 0.017*\"work\" + 0.015*\"nation\" + 0.012*\"countri\" + 0.011*\"peac\"\n",
      "Score: 0.033344026654958725\t Topic: 0.014*\"histori\" + 0.014*\"nation\" + 0.011*\"work\" + 0.010*\"freedom\" + 0.009*\"communiti\"\n",
      "Score: 0.03334258124232292\t Topic: 0.021*\"time\" + 0.018*\"nation\" + 0.016*\"american\" + 0.014*\"world\" + 0.013*\"chang\"\n",
      "Score: 0.03334081545472145\t Topic: 0.021*\"peopl\" + 0.019*\"america\" + 0.017*\"right\" + 0.012*\"nation\" + 0.010*\"believ\"\n",
      "Score: 0.03333662077784538\t Topic: 0.025*\"time\" + 0.021*\"govern\" + 0.011*\"public\" + 0.010*\"citizen\" + 0.009*\"life\"\n",
      "Score: 0.033336106687784195\t Topic: 0.027*\"nation\" + 0.015*\"citizen\" + 0.013*\"peac\" + 0.013*\"great\" + 0.012*\"countri\"\n"
     ]
    }
   ],
   "source": [
    "unseen_document = \"Nyle is a very adventurous person, he like swimming, hiking, camping and running.\"\n",
    "\n",
    "# Data preprocessing step for the unseen document\n",
    "bow_vector = dictionary.doc2bow(preprocess(unseen_document))\n",
    "\n",
    "for index, score in sorted(lda_model[bow_vector], key=lambda tup: -1*tup[1]):\n",
    "\n",
    "    print(\"Score: {}\\t Topic: {}\".format(score, lda_model.print_topic(index, 5)))"
   ]
  },
  {
   "cell_type": "code",
   "execution_count": null,
   "metadata": {},
   "outputs": [],
   "source": []
  },
  {
   "cell_type": "markdown",
   "metadata": {},
   "source": [
    "\n",
    "# Supervised Learning\n",
    "\n",
    "Let see which model perform well, since we have multiclass target(18 president), we used this models that support multiclass target.\n",
    "\n",
    "* Random Forest Classifier\n",
    "* Logistic Regression\n",
    "* Support Vector Classifier\n"
   ]
  },
  {
   "cell_type": "markdown",
   "metadata": {},
   "source": [
    "#### To streamline the workflow, let's write a function that will test each model on both the tf-idf and LSA features and then produce a confusion matrix for each test case."
   ]
  },
  {
   "cell_type": "code",
   "execution_count": 48,
   "metadata": {},
   "outputs": [],
   "source": [
    "# Import models \n",
    "from sklearn.ensemble import RandomForestClassifier                          \n",
    "from sklearn.linear_model import LogisticRegression \n",
    "from sklearn.svm import SVC   \n",
    "\n",
    "# Import evaluation metrics\n",
    "from sklearn.model_selection import cross_val_score\n",
    "from sklearn.metrics import confusion_matrix\n",
    "\n",
    "# Specify target variables\n",
    "Y_train = df_train['president']\n",
    "Y_test = df_test['president']\n"
   ]
  },
  {
   "cell_type": "code",
   "execution_count": 49,
   "metadata": {},
   "outputs": [
    {
     "data": {
      "text/plain": [
       "4641          Bush\n",
       "3556    Eisenhower\n",
       "4884         Obama\n",
       "1499         Grant\n",
       "3203     Roosevelt\n",
       "           ...    \n",
       "1485         Grant\n",
       "904           Polk\n",
       "2785      Coolidge\n",
       "4591          Bush\n",
       "432         Monroe\n",
       "Name: president, Length: 3787, dtype: object"
      ]
     },
     "execution_count": 49,
     "metadata": {},
     "output_type": "execute_result"
    }
   ],
   "source": [
    "Y_train"
   ]
  },
  {
   "cell_type": "code",
   "execution_count": 50,
   "metadata": {},
   "outputs": [
    {
     "data": {
      "text/plain": [
       "3172     Roosevelt\n",
       "3997        Reagan\n",
       "4748          Bush\n",
       "2363        Wilson\n",
       "4909         Obama\n",
       "           ...    \n",
       "1406       Lincoln\n",
       "3857         Nixon\n",
       "2983        Hoover\n",
       "3532    Eisenhower\n",
       "3547    Eisenhower\n",
       "Name: president, Length: 1263, dtype: object"
      ]
     },
     "execution_count": 50,
     "metadata": {},
     "output_type": "execute_result"
    }
   ],
   "source": [
    "Y_test"
   ]
  },
  {
   "cell_type": "code",
   "execution_count": 51,
   "metadata": {},
   "outputs": [],
   "source": [
    "# Set up funtion to run models on both feature sets and generate accuracy scores and confusion matrices\n",
    "\n",
    "def run_model(clf):\n",
    "    \n",
    "    #************ TFIDF Feature Inputs ***************\n",
    "    X_train = X_train_tfidf\n",
    "    X_test = X_test_tfidf\n",
    "    \n",
    "    # Fit with tfidf features\n",
    "    clf.fit(X_train, Y_train)\n",
    "    \n",
    "    # Predict outcomes for confusion matrix\n",
    "    Y_pred_tf = clf.fit(X_train_tfidf, Y_train).predict(X_test_tfidf)\n",
    "    \n",
    "    # Get results\n",
    "    print('TF-IDF Features:')\n",
    "    print('Train accuracy:', clf.score(X_train, Y_train))\n",
    "    print('Test accuracy:', clf.score(X_test, Y_test))\n",
    "    print('---------------------------------------------')\n",
    "    \n",
    "\n",
    "    # ************ LSA Feature Inputs *******************\n",
    "    X_train = X_train_lsa\n",
    "    X_test = X_test_lsa\n",
    "    \n",
    "    # Refit with lsa features\n",
    "    clf.fit(X_train, Y_train)\n",
    "    \n",
    "    # Predict outcomes for confusion matrix\n",
    "    Y_pred_lsa = clf.fit(X_train_lsa, Y_train).predict(X_test_lsa)\n",
    "    \n",
    "    print('LSA Features:')\n",
    "    print('Train accuracy:', clf.score(X_train, Y_train))\n",
    "    print('Test accuracy:', clf.score(X_test, Y_test))\n",
    "    \n",
    "    # ************ Generate Confusion Matrices ****************\n",
    "    \n",
    "    # Specify text labels\n",
    "    labels = sorted(Y_test.unique())\n",
    "    \n",
    "    # Make tfidf confusion matrix, send to df\n",
    "    cm_tf = confusion_matrix(Y_test, Y_pred_tf)\n",
    "    df_cm_tf = pd.DataFrame(cm_tf, labels, labels)\n",
    "  \n",
    "    # Make lsa confusion matrix, send to df\n",
    "    cm_lsa = confusion_matrix(Y_test, Y_pred_lsa)\n",
    "    df_cm_lsa = pd.DataFrame(cm_lsa, labels, labels)\n",
    "    \n",
    "    # Setup plots\n",
    "    fig, (ax1, ax2) = plt.subplots(1, 2, figsize=(16,8))\n",
    "    \n",
    "    \n",
    "    # ******************** Plot *************************\n",
    "    \n",
    "    # Create confusion matrix heatmaps \n",
    "    \n",
    "    sns.heatmap(df_cm_tf, ax=ax1)\n",
    "    sns.heatmap(df_cm_lsa, ax=ax2)\n",
    "    \n",
    "    # Set title and axis\n",
    "    ax1.set_title('Tf-idf Confusion Matrix')\n",
    "    ax2.set_title('LSA Confusion Matrix')\n",
    "    ax1.set_ylabel('Actual')\n",
    "    ax1.set_xlabel('Predicted')\n",
    "    ax2.set_xlabel('Predicted')\n",
    "\n",
    "    plt.tight_layout()\n",
    "    plt.show()\n",
    "    \n"
   ]
  },
  {
   "cell_type": "code",
   "execution_count": 52,
   "metadata": {},
   "outputs": [
    {
     "data": {
      "text/plain": [
       "[['1789-Washington.txt', 'Washington'],\n",
       " ['1793-Washington.txt', 'Washington'],\n",
       " ['1797-Adams.txt', 'Adams'],\n",
       " ['1801-Jefferson.txt', 'Jefferson'],\n",
       " ['1805-Jefferson.txt', 'Jefferson'],\n",
       " ['1809-Madison.txt', 'Madison'],\n",
       " ['1813-Madison.txt', 'Madison'],\n",
       " ['1817-Monroe.txt', 'Monroe'],\n",
       " ['1821-Monroe.txt', 'Monroe'],\n",
       " ['1825-Adams.txt', 'Adams'],\n",
       " ['1829-Jackson.txt', 'Jackson'],\n",
       " ['1833-Jackson.txt', 'Jackson'],\n",
       " ['1837-VanBuren.txt', 'VanBuren'],\n",
       " ['1841-Harrison.txt', 'Harrison'],\n",
       " ['1845-Polk.txt', 'Polk'],\n",
       " ['1849-Taylor.txt', 'Taylor'],\n",
       " ['1853-Pierce.txt', 'Pierce'],\n",
       " ['1857-Buchanan.txt', 'Buchanan'],\n",
       " ['1861-Lincoln.txt', 'Lincoln'],\n",
       " ['1865-Lincoln.txt', 'Lincoln'],\n",
       " ['1869-Grant.txt', 'Grant'],\n",
       " ['1873-Grant.txt', 'Grant'],\n",
       " ['1877-Hayes.txt', 'Hayes'],\n",
       " ['1881-Garfield.txt', 'Garfield'],\n",
       " ['1885-Cleveland.txt', 'Cleveland'],\n",
       " ['1889-Harrison.txt', 'Harrison'],\n",
       " ['1893-Cleveland.txt', 'Cleveland'],\n",
       " ['1897-McKinley.txt', 'McKinley'],\n",
       " ['1901-McKinley.txt', 'McKinley'],\n",
       " ['1905-Roosevelt.txt', 'Roosevelt'],\n",
       " ['1909-Taft.txt', 'Taft'],\n",
       " ['1913-Wilson.txt', 'Wilson'],\n",
       " ['1917-Wilson.txt', 'Wilson'],\n",
       " ['1921-Harding.txt', 'Harding'],\n",
       " ['1925-Coolidge.txt', 'Coolidge'],\n",
       " ['1929-Hoover.txt', 'Hoover'],\n",
       " ['1933-Roosevelt.txt', 'Roosevelt'],\n",
       " ['1937-Roosevelt.txt', 'Roosevelt'],\n",
       " ['1941-Roosevelt.txt', 'Roosevelt'],\n",
       " ['1945-Roosevelt.txt', 'Roosevelt'],\n",
       " ['1949-Truman.txt', 'Truman'],\n",
       " ['1953-Eisenhower.txt', 'Eisenhower'],\n",
       " ['1957-Eisenhower.txt', 'Eisenhower'],\n",
       " ['1961-Kennedy.txt', 'Kennedy'],\n",
       " ['1965-Johnson.txt', 'Johnson'],\n",
       " ['1969-Nixon.txt', 'Nixon'],\n",
       " ['1973-Nixon.txt', 'Nixon'],\n",
       " ['1977-Carter.txt', 'Carter'],\n",
       " ['1981-Reagan.txt', 'Reagan'],\n",
       " ['1985-Reagan.txt', 'Reagan'],\n",
       " ['1989-Bush.txt', 'Bush'],\n",
       " ['1993-Clinton.txt', 'Clinton'],\n",
       " ['1997-Clinton.txt', 'Clinton'],\n",
       " ['2001-Bush.txt', 'Bush'],\n",
       " ['2005-Bush.txt', 'Bush'],\n",
       " ['2009-Obama.txt', 'Obama'],\n",
       " ['2013-Obama.txt', 'Obama'],\n",
       " ['2017-Trump.txt', 'Trump']]"
      ]
     },
     "execution_count": 52,
     "metadata": {},
     "output_type": "execute_result"
    }
   ],
   "source": [
    "labels"
   ]
  },
  {
   "cell_type": "markdown",
   "metadata": {},
   "source": [
    "#### Random Forest"
   ]
  },
  {
   "cell_type": "code",
   "execution_count": 53,
   "metadata": {},
   "outputs": [
    {
     "name": "stdout",
     "output_type": "stream",
     "text": [
      "TF-IDF Features:\n",
      "Train accuracy: 0.14444151043041986\n",
      "Test accuracy: 0.043547110055423596\n",
      "---------------------------------------------\n",
      "LSA Features:\n",
      "Train accuracy: 0.18774755743332452\n",
      "Test accuracy: 0.04671417260490895\n"
     ]
    },
    {
     "data": {
      "image/png": "[encoded data removed]",
      "text/plain": [
       "<Figure size 1152x576 with 4 Axes>"
      ]
     },
     "metadata": {
      "needs_background": "light"
     },
     "output_type": "display_data"
    }
   ],
   "source": [
    "# Specify the classifier\n",
    "clf = RandomForestClassifier(n_estimators=100,\n",
    "                             max_depth=3,\n",
    "                             random_state=42,\n",
    "                             class_weight='balanced' \n",
    "                            )   \n",
    "\n",
    "# Run model\n",
    "run_model(clf)"
   ]
  },
  {
   "cell_type": "markdown",
   "metadata": {},
   "source": [
    "#### The accuracy of both TD-IDF and LSA feaures perform very bad and almost the same. The confusion matrix of TD-IDF predicted Harding as the document source. The LSA idendified most of the president as document source. The class balance parameter was set to balance but it follows the but still follows the class imbalance in the data."
   ]
  },
  {
   "cell_type": "code",
   "execution_count": 54,
   "metadata": {},
   "outputs": [
    {
     "data": {
      "text/html": [
       "<div>\n",
       "<style scoped>\n",
       "    .dataframe tbody tr th:only-of-type {\n",
       "        vertical-align: middle;\n",
       "    }\n",
       "\n",
       "    .dataframe tbody tr th {\n",
       "        vertical-align: top;\n",
       "    }\n",
       "\n",
       "    .dataframe thead th {\n",
       "        text-align: right;\n",
       "    }\n",
       "</style>\n",
       "<table border=\"1\" class=\"dataframe\">\n",
       "  <thead>\n",
       "    <tr style=\"text-align: right;\">\n",
       "      <th></th>\n",
       "      <th>word</th>\n",
       "      <th>importance</th>\n",
       "    </tr>\n",
       "  </thead>\n",
       "  <tbody>\n",
       "    <tr>\n",
       "      <th>3200</th>\n",
       "      <td>shall</td>\n",
       "      <td>0.013862</td>\n",
       "    </tr>\n",
       "    <tr>\n",
       "      <th>1139</th>\n",
       "      <td>duty</td>\n",
       "      <td>0.013454</td>\n",
       "    </tr>\n",
       "    <tr>\n",
       "      <th>1780</th>\n",
       "      <td>house</td>\n",
       "      <td>0.013300</td>\n",
       "    </tr>\n",
       "    <tr>\n",
       "      <th>2871</th>\n",
       "      <td>recommend</td>\n",
       "      <td>0.012124</td>\n",
       "    </tr>\n",
       "    <tr>\n",
       "      <th>2090</th>\n",
       "      <td>lately</td>\n",
       "      <td>0.012076</td>\n",
       "    </tr>\n",
       "    <tr>\n",
       "      <th>1048</th>\n",
       "      <td>discharge</td>\n",
       "      <td>0.011153</td>\n",
       "    </tr>\n",
       "    <tr>\n",
       "      <th>2315</th>\n",
       "      <td>moderation</td>\n",
       "      <td>0.010791</td>\n",
       "    </tr>\n",
       "    <tr>\n",
       "      <th>1929</th>\n",
       "      <td>informed</td>\n",
       "      <td>0.010361</td>\n",
       "    </tr>\n",
       "    <tr>\n",
       "      <th>2788</th>\n",
       "      <td>public</td>\n",
       "      <td>0.009410</td>\n",
       "    </tr>\n",
       "    <tr>\n",
       "      <th>776</th>\n",
       "      <td>continuance</td>\n",
       "      <td>0.008523</td>\n",
       "    </tr>\n",
       "  </tbody>\n",
       "</table>\n",
       "</div>"
      ],
      "text/plain": [
       "             word  importance\n",
       "3200        shall    0.013862\n",
       "1139         duty    0.013454\n",
       "1780        house    0.013300\n",
       "2871    recommend    0.012124\n",
       "2090       lately    0.012076\n",
       "1048    discharge    0.011153\n",
       "2315   moderation    0.010791\n",
       "1929     informed    0.010361\n",
       "2788       public    0.009410\n",
       "776   continuance    0.008523"
      ]
     },
     "execution_count": 54,
     "metadata": {},
     "output_type": "execute_result"
    }
   ],
   "source": [
    "# Use model to get feature importance\n",
    "feat_importance = clf.fit(X_train_tfidf, Y_train).feature_importances_\n",
    "features = vectorizer.get_feature_names()\n",
    "\n",
    "importance_df = pd.DataFrame({'word': vectorizer.get_feature_names(), 'importance': feat_importance})\n",
    "importance_df.sort_values(by='importance', ascending=False).head(10)"
   ]
  },
  {
   "cell_type": "markdown",
   "metadata": {},
   "source": [
    "Again, we see 'applause' as the most important word.  This could be throwing off the model because it's effectively a corpus specific stop word."
   ]
  },
  {
   "cell_type": "markdown",
   "metadata": {},
   "source": [
    "#### We can see that *shall* is the most important word. This is a *stop word* so we can consider to remove *stop word* cause it has effect on the performance of the model."
   ]
  },
  {
   "cell_type": "markdown",
   "metadata": {},
   "source": [
    "#### Logistic Regression"
   ]
  },
  {
   "cell_type": "code",
   "execution_count": 55,
   "metadata": {},
   "outputs": [
    {
     "name": "stderr",
     "output_type": "stream",
     "text": [
      "C:\\Users\\catan\\.conda\\envs\\catanEnv\\lib\\site-packages\\sklearn\\linear_model\\logistic.py:432: FutureWarning: Default solver will be changed to 'lbfgs' in 0.22. Specify a solver to silence this warning.\n",
      "  FutureWarning)\n",
      "C:\\Users\\catan\\.conda\\envs\\catanEnv\\lib\\site-packages\\sklearn\\linear_model\\logistic.py:469: FutureWarning: Default multi_class will be changed to 'auto' in 0.22. Specify the multi_class option to silence this warning.\n",
      "  \"this warning.\", FutureWarning)\n"
     ]
    },
    {
     "name": "stdout",
     "output_type": "stream",
     "text": [
      "TF-IDF Features:\n",
      "Train accuracy: 0.6139424346448376\n",
      "Test accuracy: 0.2288202692003167\n",
      "---------------------------------------------\n"
     ]
    },
    {
     "name": "stderr",
     "output_type": "stream",
     "text": [
      "C:\\Users\\catan\\.conda\\envs\\catanEnv\\lib\\site-packages\\sklearn\\linear_model\\logistic.py:469: FutureWarning: Default multi_class will be changed to 'auto' in 0.22. Specify the multi_class option to silence this warning.\n",
      "  \"this warning.\", FutureWarning)\n",
      "C:\\Users\\catan\\.conda\\envs\\catanEnv\\lib\\site-packages\\sklearn\\linear_model\\logistic.py:432: FutureWarning: Default solver will be changed to 'lbfgs' in 0.22. Specify a solver to silence this warning.\n",
      "  FutureWarning)\n",
      "C:\\Users\\catan\\.conda\\envs\\catanEnv\\lib\\site-packages\\sklearn\\linear_model\\logistic.py:469: FutureWarning: Default multi_class will be changed to 'auto' in 0.22. Specify the multi_class option to silence this warning.\n",
      "  \"this warning.\", FutureWarning)\n"
     ]
    },
    {
     "name": "stdout",
     "output_type": "stream",
     "text": [
      "LSA Features:\n",
      "Train accuracy: 0.5653551623976762\n",
      "Test accuracy: 0.2454473475851148\n"
     ]
    },
    {
     "data": {
      "image/png": "[encoded data removed]",
      "text/plain": [
       "<Figure size 1152x576 with 4 Axes>"
      ]
     },
     "metadata": {
      "needs_background": "light"
     },
     "output_type": "display_data"
    }
   ],
   "source": [
    "# Specify and run model\n",
    "clf = LogisticRegression()\n",
    "run_model(clf)\n"
   ]
  },
  {
   "cell_type": "markdown",
   "metadata": {},
   "source": [
    "#### Logistic Regression perform better but it prone to overfitting. Both perform better accuracy in th training data set and bad on the testing data. It still follow the class imbalance and it predicted Harding, Bush, Taft , Nixon, Reagan as the document source. "
   ]
  },
  {
   "cell_type": "markdown",
   "metadata": {},
   "source": [
    "#### Support Vector Machine "
   ]
  },
  {
   "cell_type": "code",
   "execution_count": 56,
   "metadata": {},
   "outputs": [
    {
     "name": "stderr",
     "output_type": "stream",
     "text": [
      "C:\\Users\\catan\\.conda\\envs\\catanEnv\\lib\\site-packages\\sklearn\\svm\\base.py:193: FutureWarning: The default value of gamma will change from 'auto' to 'scale' in version 0.22 to account better for unscaled features. Set gamma explicitly to 'auto' or 'scale' to avoid this warning.\n",
      "  \"avoid this warning.\", FutureWarning)\n"
     ]
    },
    {
     "name": "stdout",
     "output_type": "stream",
     "text": [
      "TF-IDF Features:\n",
      "Train accuracy: 0.07261684710852918\n",
      "Test accuracy: 0.0728424386381631\n",
      "---------------------------------------------\n"
     ]
    },
    {
     "name": "stderr",
     "output_type": "stream",
     "text": [
      "C:\\Users\\catan\\.conda\\envs\\catanEnv\\lib\\site-packages\\sklearn\\svm\\base.py:193: FutureWarning: The default value of gamma will change from 'auto' to 'scale' in version 0.22 to account better for unscaled features. Set gamma explicitly to 'auto' or 'scale' to avoid this warning.\n",
      "  \"avoid this warning.\", FutureWarning)\n",
      "C:\\Users\\catan\\.conda\\envs\\catanEnv\\lib\\site-packages\\sklearn\\svm\\base.py:193: FutureWarning: The default value of gamma will change from 'auto' to 'scale' in version 0.22 to account better for unscaled features. Set gamma explicitly to 'auto' or 'scale' to avoid this warning.\n",
      "  \"avoid this warning.\", FutureWarning)\n"
     ]
    },
    {
     "name": "stdout",
     "output_type": "stream",
     "text": [
      "LSA Features:\n",
      "Train accuracy: 0.07261684710852918\n",
      "Test accuracy: 0.0728424386381631\n"
     ]
    },
    {
     "data": {
      "image/png": "[encoded data removed]",
      "text/plain": [
       "<Figure size 1152x576 with 4 Axes>"
      ]
     },
     "metadata": {
      "needs_background": "light"
     },
     "output_type": "display_data"
    }
   ],
   "source": [
    "# Specify and run model\n",
    "clf = SVC()\n",
    "run_model(clf)"
   ]
  },
  {
   "cell_type": "markdown",
   "metadata": {},
   "source": [
    "The support vector machine classifier worked terribly for both feature sets. The model predicted exclusively to Harding as the document source.  "
   ]
  },
  {
   "cell_type": "markdown",
   "metadata": {},
   "source": [
    "<a id='section4'></a>\n",
    "## Comparing Supervised and Unsupervised Learning for NLP Applications"
   ]
  },
  {
   "cell_type": "markdown",
   "metadata": {},
   "source": [
    "Based on the three models above, it's clear more work could be done to make a more accurate classifier.  For starters, we could removing corpus specific stop words and address the class imbalance that's manifesting itself our model accuracies.  But the purpose here wasn't to build the best classifier possible (although that would have been a good perk).  Instead, we explored how supervised and unsupervised methods could be applied to natural language processing applications.  \n",
    "\n",
    "Here's a summary of what we learned:\n",
    "\n",
    "__Unsupervised:__\n",
    "* Tf-Idf can be used to detect unique identifier words\n",
    "* SVD can identify corpus specific stop words (i.e. 'applause'), as well as common phrases (i.e. 'we the people')\n",
    "* SVD clusters the tf-idf matrix into general themes and sentiments present in the documents.  Sometimes these clusters are meaningful and can shed light on common sentiments.\n",
    "* We didn't use similarity comparison here because it didn't make much sense for our document size.  However, if the document size was larger, say the full text body for each address, running a similarity analysis could be quite informative.  For example, we could compare the similarity of different presidents, or look at how similarity changes within a president's term.\n",
    "\n",
    "__Supervised:__\n",
    "* The utility of supervised methods is more limited and should be used for text classification purposes.  Depending on the model used, additional insights could be gained by looking at feature importance."
   ]
  },
  {
   "cell_type": "markdown",
   "metadata": {},
   "source": [
    "## Summary:\n",
    "### After data processing and applying the corpus of Inauguration addresses to Supervise and Unsupervise NLP.\n",
    "\n",
    "Data Preprocessing\n",
    "* Tokenization: Split the text into sentences and the sentences into words. Lowercase the words and remove punctuation.\n",
    "* Words that have fewer than 3 characters are removed.\n",
    "* All stopwords are removed.\n",
    "* Words are lemmatized - words in third person are changed to first person and verbs in past and future tenses are changed into present.\n",
    "* Words are stemmed - words are reduced to their root form.\n",
    "* Bag of Words is used to convert text data into numerical feature vectors w/ fixed size\n",
    "* TF-IDF(Term Frequency, Inverse Document Frequency)\n",
    "    - score the importance of words (or \"terms\") in a document based on how frequently they appear across multiple documents.\n",
    "\n",
    "### Supervised Learning NLP\n",
    "* Supervised is more limited and only used for mostly for text classification.  \n",
    "* Base on the 3 model need more investigation like modeling techniques, making more features that take advantage of the spaCy information (include grammar, phrases, POS, etc), making sentence-level features (number of words, amount of punctuation), or including contextual information (length of previous and next sentences, words repeated from one sentence to the next, etc) help to improve the accuracy.\n",
    "\n",
    "### Unsupervised Learning NLP\n",
    "* LSA - relationship between individual words and also useful as a way of creating features to be used in other models.\n",
    "* Gensim Word2vec\n",
    "    - LSA creates vector representations of sentences based on the words in them, while word2vec creates representations of individual words, based on the words around them.\n",
    "   "
   ]
  }
 ],
 "metadata": {
  "kernelspec": {
   "display_name": "Python 3",
   "language": "python",
   "name": "python3"
  },
  "language_info": {
   "codemirror_mode": {
    "name": "ipython",
    "version": 3
   },
   "file_extension": ".py",
   "mimetype": "text/x-python",
   "name": "python",
   "nbconvert_exporter": "python",
   "pygments_lexer": "ipython3",
   "version": "3.7.4"
  }
 },
 "nbformat": 4,
 "nbformat_minor": 2
}
