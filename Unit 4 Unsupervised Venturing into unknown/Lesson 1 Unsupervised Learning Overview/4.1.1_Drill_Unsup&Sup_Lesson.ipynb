{
 "cells": [
  {
   "cell_type": "markdown",
   "metadata": {},
   "source": [
    "## Drill: Unsupervised or supervised?\n",
    "For each of these scenarios decide if you could use supervised or unsupervised techniques, or both!\n",
    "\n",
    "1. Define the likelihood that an individual will contract a specific disease\n",
    "    - Supervise Learning\n",
    "2. Translate a set of images into variables for modeling\n",
    "    - Unsupervise Learning\n",
    "3. An ecommerce company wants to identify power users\n",
    "    - Unsupervise Learning\n",
    "4. That same company wants to see shopping patterns in users\n",
    "    - Unsupervised Learning\n",
    "5. You want to reduce the number of variables inputting into your random forest model\n",
    "    - Supervise Learning\n",
    "\n",
    "\n"
   ]
  },
  {
   "cell_type": "code",
   "execution_count": null,
   "metadata": {},
   "outputs": [],
   "source": []
  }
 ],
 "metadata": {
  "kernelspec": {
   "display_name": "Python 3",
   "language": "python",
   "name": "python3"
  },
  "language_info": {
   "codemirror_mode": {
    "name": "ipython",
    "version": 3
   },
   "file_extension": ".py",
   "mimetype": "text/x-python",
   "name": "python",
   "nbconvert_exporter": "python",
   "pygments_lexer": "ipython3",
   "version": "3.7.4"
  }
 },
 "nbformat": 4,
 "nbformat_minor": 2
}
