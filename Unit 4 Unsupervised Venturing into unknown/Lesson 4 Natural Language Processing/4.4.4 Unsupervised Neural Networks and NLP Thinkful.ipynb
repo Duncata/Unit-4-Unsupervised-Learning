{
 "cells": [
  {
   "cell_type": "code",
   "execution_count": 1,
   "metadata": {
    "run_control": {
     "frozen": false,
     "read_only": false
    }
   },
   "outputs": [],
   "source": [
    "%matplotlib inline\n",
    "import numpy as np\n",
    "import pandas as pd\n",
    "import scipy\n",
    "import sklearn\n",
    "import spacy\n",
    "import matplotlib.pyplot as plt\n",
    "import seaborn as sns\n",
    "import re\n",
    "from nltk.corpus import gutenberg, stopwords"
   ]
  },
  {
   "cell_type": "markdown",
   "metadata": {
    "run_control": {
     "frozen": false,
     "read_only": false
    }
   },
   "source": [
    "## Intro to word2vec\n",
    "\n",
    "The most common unsupervised neural network approach for NLP is word2vec, a shallow neural network model for converting words to vectors using distributed representation: Each word is represented by many neurons, and each neuron is involved in representing many words.  At the highest level of abstraction, word2vec assigns a vector of random values to each word.  For a word W, it looks at the words that are near W in the sentence, and shifts the values in the word vectors such that the vectors for words near that W are closer to the W vector, and vectors for words not near W are farther away from the W vector.  With a large enough corpus, this will eventually result in words that often appear together having vectors that are near one another, and words that rarely or never appear together having vectors that are far away from each other.  Then, using the vectors, similarity scores can be computed for each pair of words by taking the cosine of the vectors.  \n",
    "\n",
    "This may sound quite similar to the Latent Semantic Analysis approach you just learned.  __The conceptual difference is that LSA creates vector representations of sentences based on the words in them, while word2vec creates representations of individual words, based on the words around them.__"
   ]
  },
  {
   "cell_type": "markdown",
   "metadata": {},
   "source": [
    "## What is it good for?\n",
    "\n",
    "Word2vec is useful for any time when computers need to parse requests written by humans. The problem with human communication is that there are so many different ways to communicate the same concept. It's easy for us, as humans, to know that \"the silverware\" and \"the utensils\" can refer to the same thing. Computers can't do that unless we teach them, and this can be a real chokepoint for human/computer interactions. If you've ever played a text adventure game (think _Colossal Cave Adventure_ or _Zork_), you may have encountered the following scenario:"
   ]
  },
  {
   "cell_type": "raw",
   "metadata": {},
   "source": [
    "GAME: You are on a forest path north of the field. A cave leads into a granite butte to the north.\n",
    "A thick hedge blocks the way to the west.\n",
    "A hefty stick lies on the ground.\n",
    "\n",
    "YOU: pick up stick  \n",
    "\n",
    "GAME: You don't know how to do that.  \n",
    "\n",
    "YOU: lift stick  \n",
    "\n",
    "GAME: You don't know how to do that.  \n",
    "\n",
    "YOU: take stick  \n",
    "\n",
    "GAME: You don't know how to do that.  \n",
    "\n",
    "YOU: grab stick  \n",
    "\n",
    "GAME: You grab the stick from the ground and put it in your bag.  "
   ]
  },
  {
   "cell_type": "markdown",
   "metadata": {},
   "source": [
    "And your brain explodes from frustration. A text adventure game that incorporates a properly trained word2vec model would have vectors for \"pick up\", \"lift\", and \"take\" that are close to the vector for \"grab\" and therefore could accept those other verbs as synonyms so you could move ahead faster. In more practical applications, word2vec and other similar algorithms are what help a search engine return the best results for your query and not just the ones that contain the exact words you used. In fact, search is a better example, because not only does the search engine need to understand your request, it also needs to match it to web pages that were _also written by humans_ and therefore _also use idiosyncratic language_.\n",
    "\n",
    "Humans, man.  \n",
    "\n",
    "So how does it work?\n",
    "\n",
    "## Generating vectors: Multiple algorithms\n",
    "\n",
    "In considering the relationship between a word and its surrounding words, word2vec has two options that are the inverse of one another:\n",
    "\n",
    " * _Continuous Bag of Words_ (CBOW): the identity of a word is predicted using the words near it in a sentence.\n",
    " * _Skip-gram_: The identities of words are predicted from the word they surround. Skip-gram seems to work better for larger corpuses.\n",
    "\n",
    "For the sentence \"Terry Gilliam is a better comedian than a director\", if we focus on the word \"comedian\" then  __CBOW will try to predict \"comedian\" using \"is\", \"a\", \"better\", \"than\", \"a\", and \"director\".  Skip-gram will try to predict \"is\", \"a\", \"better\", \"than\", \"a\", and \"director\" using the word \"comedian\".In practice, for CBOW the vector for \"comedian\" will be pulled closer to the other words, while for skip-gram the vectors for the other words will be pulled closer to \"comedian\".__  \n",
    "\n",
    "In addition to moving the vectors for nearby words closer together, each time a word is processed some vectors are moved farther away. Word2vec has two approaches to \"pushing\" vectors apart:\n",
    " \n",
    " * _Negative sampling_: Like it says on the tin, each time a word is pulled toward some neighbors, the vectors for a randomly chosen small set of other words are pushed away.\n",
    " * _Hierarchical softmax_: Every neighboring word is pulled closer or farther from a subset of words chosen based on a tree of probabilities.\n",
    "\n",
    "## What is similarity? Word2vec strengths and weaknesses\n",
    "\n",
    "Keep in mind that word2vec operates on the assumption that frequent proximity indicates similarity, but words can be \"similar\" in various ways. They may be conceptually similar (\"royal\", \"king\", and \"throne\"), but they may also be functionally similar (\"tremendous\" and \"negligible\" are both common modifiers of \"size\"). Here is a more detailed exploration, [with examples](https://quomodocumque.wordpress.com/2016/01/15/messing-around-with-word2vec/), of what \"similarity\" means in word2vec.\n",
    "\n",
    "One cool thing about word2vec is that it can identify similarities between words _that never occur near one another in the corpus_. For example, consider these sentences:\n",
    "\n",
    "\"The dog played with an elastic ball.\"\n",
    "\"Babies prefer the ball that is bouncy.\"\n",
    "\"I wanted to find a ball that's elastic.\"\n",
    "\"Tracy threw a bouncy ball.\"\n",
    "\n",
    "\"Elastic\" and \"bouncy\" are similar in meaning in the text but don't appear in the same sentence. However, both appear near \"ball\". In the process of nudging the vectors around so that \"elastic\" and \"bouncy\" are both near the vector for \"ball\", the words also become nearer to one another and their similarity can be detected.\n",
    "\n",
    "For a while after it was introduced, [no one was really sure why word2vec worked as well as it did](https://arxiv.org/pdf/1402.3722v1.pdf) (see last paragraph of the linked paper). A few years later, some additional math was developed to explain word2vec and similar models. If you are comfortable with both math and \"academese\", have a lot of time on your hands, and want to take a deep dive into the inner workings of word2vec, [check out this paper](https://arxiv.org/pdf/1502.03520v7.pdf) from 2016.  \n",
    "\n",
    "One of the draws of word2vec when it first came out was that the vectors could be used to convert analogies (\"king\" is to \"queen\" as \"man\" is to \"woman\", for example) into mathematical expressions (\"king\" + \"woman\" - \"man\" = ?) and solve for the missing element (\"queen\"). This is kinda nifty.\n",
    "\n",
    "A drawback of word2vec is that it works best with a corpus that is at least several billion words long. Even though the word2vec algorithm is speedy, this is a a lot of data and takes a long time! Our example dataset is only two million words long, which allows us to run it in the notebook without overwhelming the kernel, but probably won't give great results.  Still, let's try it!\n",
    "\n",
    "There are a few word2vec implementations in Python, but the general consensus is the easiest one to us is in [gensim](https://radimrehurek.com/gensim/models/word2vec.html). Now is a good time to `pip install gensim` if you don't have it yet."
   ]
  },
  {
   "cell_type": "code",
   "execution_count": 2,
   "metadata": {},
   "outputs": [
    {
     "name": "stdout",
     "output_type": "stream",
     "text": [
      "Requirement already satisfied: gensim in c:\\users\\catan\\.conda\\envs\\catanenv\\lib\\site-packages (3.8.0)\n",
      "Requirement already satisfied: six>=1.5.0 in c:\\users\\catan\\.conda\\envs\\catanenv\\lib\\site-packages (from gensim) (1.12.0)\n",
      "Requirement already satisfied: smart-open>=1.7.0 in c:\\users\\catan\\.conda\\envs\\catanenv\\lib\\site-packages (from gensim) (1.8.4)\n",
      "Requirement already satisfied: scipy>=0.18.1 in c:\\users\\catan\\.conda\\envs\\catanenv\\lib\\site-packages (from gensim) (1.1.0)\n",
      "Requirement already satisfied: numpy>=1.11.3 in c:\\users\\catan\\.conda\\envs\\catanenv\\lib\\site-packages (from gensim) (1.16.4)\n",
      "Requirement already satisfied: boto3 in c:\\users\\catan\\.conda\\envs\\catanenv\\lib\\site-packages (from smart-open>=1.7.0->gensim) (1.9.216)\n",
      "Requirement already satisfied: boto>=2.32 in c:\\users\\catan\\.conda\\envs\\catanenv\\lib\\site-packages (from smart-open>=1.7.0->gensim) (2.49.0)\n",
      "Requirement already satisfied: requests in c:\\users\\catan\\.conda\\envs\\catanenv\\lib\\site-packages (from smart-open>=1.7.0->gensim) (2.22.0)\n",
      "Requirement already satisfied: botocore<1.13.0,>=1.12.216 in c:\\users\\catan\\.conda\\envs\\catanenv\\lib\\site-packages (from boto3->smart-open>=1.7.0->gensim) (1.12.216)\n",
      "Requirement already satisfied: s3transfer<0.3.0,>=0.2.0 in c:\\users\\catan\\.conda\\envs\\catanenv\\lib\\site-packages (from boto3->smart-open>=1.7.0->gensim) (0.2.1)\n",
      "Requirement already satisfied: jmespath<1.0.0,>=0.7.1 in c:\\users\\catan\\.conda\\envs\\catanenv\\lib\\site-packages (from boto3->smart-open>=1.7.0->gensim) (0.9.4)\n",
      "Requirement already satisfied: chardet<3.1.0,>=3.0.2 in c:\\users\\catan\\.conda\\envs\\catanenv\\lib\\site-packages (from requests->smart-open>=1.7.0->gensim) (3.0.4)\n",
      "Requirement already satisfied: idna<2.9,>=2.5 in c:\\users\\catan\\.conda\\envs\\catanenv\\lib\\site-packages (from requests->smart-open>=1.7.0->gensim) (2.8)\n",
      "Requirement already satisfied: urllib3!=1.25.0,!=1.25.1,<1.26,>=1.21.1 in c:\\users\\catan\\.conda\\envs\\catanenv\\lib\\site-packages (from requests->smart-open>=1.7.0->gensim) (1.25.3)\n",
      "Requirement already satisfied: certifi>=2017.4.17 in c:\\users\\catan\\.conda\\envs\\catanenv\\lib\\site-packages (from requests->smart-open>=1.7.0->gensim) (2019.6.16)\n",
      "Requirement already satisfied: python-dateutil<3.0.0,>=2.1; python_version >= \"2.7\" in c:\\users\\catan\\.conda\\envs\\catanenv\\lib\\site-packages (from botocore<1.13.0,>=1.12.216->boto3->smart-open>=1.7.0->gensim) (2.8.0)\n",
      "Requirement already satisfied: docutils<0.16,>=0.10 in c:\\users\\catan\\.conda\\envs\\catanenv\\lib\\site-packages (from botocore<1.13.0,>=1.12.216->boto3->smart-open>=1.7.0->gensim) (0.15.2)\n"
     ]
    },
    {
     "name": "stderr",
     "output_type": "stream",
     "text": [
      "WARNING: You are using pip version 19.2.1, however version 19.2.3 is available.\n",
      "You should consider upgrading via the 'python -m pip install --upgrade pip' command.\n"
     ]
    },
    {
     "name": "stdout",
     "output_type": "stream",
     "text": [
      "Note: you may need to restart the kernel to use updated packages.\n"
     ]
    }
   ],
   "source": [
    "pip install gensim"
   ]
  },
  {
   "cell_type": "code",
   "execution_count": 3,
   "metadata": {},
   "outputs": [
    {
     "name": "stdout",
     "output_type": "stream",
     "text": [
      "Collecting pip\n",
      "  Using cached https://files.pythonhosted.org/packages/30/db/9e38760b32e3e7f40cce46dd5fb107b8c73840df38f0046d8e6514e675a1/pip-19.2.3-py2.py3-none-any.whl\n",
      "Installing collected packages: pip\n",
      "  Found existing installation: pip 19.2.1\n",
      "    Uninstalling pip-19.2.1:\n",
      "      Successfully uninstalled pip-19.2.1\n",
      "  Rolling back uninstall of pip\n",
      "  Moving to c:\\users\\catan\\appdata\\roaming\\python\\python37\\scripts\\\n",
      "   from c:\\users\\catan\\appdata\\roaming\\python\\python37\\~cripts\n",
      "  Moving to c:\\users\\catan\\appdata\\roaming\\python\\python37\\site-packages\\pip-19.2.1.dist-info\\\n",
      "   from c:\\users\\catan\\appdata\\roaming\\python\\python37\\site-packages\\~ip-19.2.1.dist-info\n",
      "  Moving to c:\\users\\catan\\appdata\\roaming\\python\\python37\\site-packages\\pip\\\n",
      "   from c:\\users\\catan\\appdata\\roaming\\python\\python37\\site-packages\\~ip\n"
     ]
    },
    {
     "name": "stderr",
     "output_type": "stream",
     "text": [
      "ERROR: Exception:\n",
      "Traceback (most recent call last):\n",
      "  File \"C:\\Users\\catan\\AppData\\Roaming\\Python\\Python37\\site-packages\\pip\\_internal\\cli\\base_command.py\", line 188, in main\n",
      "    status = self.run(options, args)\n",
      "  File \"C:\\Users\\catan\\AppData\\Roaming\\Python\\Python37\\site-packages\\pip\\_internal\\commands\\install.py\", line 407, in run\n",
      "    use_user_site=options.use_user_site,\n",
      "  File \"C:\\Users\\catan\\AppData\\Roaming\\Python\\Python37\\site-packages\\pip\\_internal\\req\\__init__.py\", line 58, in install_given_reqs\n",
      "    **kwargs\n",
      "  File \"C:\\Users\\catan\\AppData\\Roaming\\Python\\Python37\\site-packages\\pip\\_internal\\req\\req_install.py\", line 928, in install\n",
      "    use_user_site=use_user_site, pycompile=pycompile,\n",
      "  File \"C:\\Users\\catan\\AppData\\Roaming\\Python\\Python37\\site-packages\\pip\\_internal\\req\\req_install.py\", line 461, in move_wheel_files\n",
      "    warn_script_location=warn_script_location,\n",
      "  File \"C:\\Users\\catan\\AppData\\Roaming\\Python\\Python37\\site-packages\\pip\\_internal\\wheel.py\", line 550, in move_wheel_files\n",
      "    generated.extend(maker.make(spec))\n",
      "  File \"C:\\Users\\catan\\AppData\\Roaming\\Python\\Python37\\site-packages\\pip\\_vendor\\distlib\\scripts.py\", line 391, in make\n",
      "    self._make_script(entry, filenames, options=options)\n",
      "  File \"C:\\Users\\catan\\AppData\\Roaming\\Python\\Python37\\site-packages\\pip\\_vendor\\distlib\\scripts.py\", line 295, in _make_script\n",
      "    self._write_script(scriptnames, shebang, script, filenames, ext)\n",
      "  File \"C:\\Users\\catan\\AppData\\Roaming\\Python\\Python37\\site-packages\\pip\\_vendor\\distlib\\scripts.py\", line 231, in _write_script\n",
      "    launcher = self._get_launcher('t')\n",
      "  File \"C:\\Users\\catan\\AppData\\Roaming\\Python\\Python37\\site-packages\\pip\\_vendor\\distlib\\scripts.py\", line 370, in _get_launcher\n",
      "    result = finder(distlib_package).find(name).bytes\n",
      "AttributeError: 'NoneType' object has no attribute 'bytes'\n",
      "WARNING: You are using pip version 19.2.1, however version 19.2.3 is available.\n",
      "You should consider upgrading via the 'python -m pip install --upgrade pip' command.\n"
     ]
    },
    {
     "name": "stdout",
     "output_type": "stream",
     "text": [
      "Note: you may need to restart the kernel to use updated packages.\n"
     ]
    }
   ],
   "source": [
    "pip install --upgrade pip"
   ]
  },
  {
   "cell_type": "code",
   "execution_count": 4,
   "metadata": {},
   "outputs": [
    {
     "name": "stdout",
     "output_type": "stream",
     "text": [
      "['abc', 'abc.zip', 'alpino', 'alpino.zip', 'biocreative_ppi', 'biocreative_ppi.zip', 'brown', 'brown.zip', 'brown_tei', 'brown_tei.zip', 'cess_cat', 'cess_cat.zip', 'cess_esp', 'cess_esp.zip', 'chat80', 'chat80.zip', 'city_database', 'city_database.zip', 'cmudict', 'cmudict.zip', 'comparative_sentences', 'comparative_sentences.zip', 'comtrans.zip', 'conll2000', 'conll2000.zip', 'conll2002', 'conll2002.zip', 'conll2007.zip', 'crubadan', 'crubadan.zip', 'dependency_treebank', 'dependency_treebank.zip', 'dolch', 'dolch.zip', 'europarl_raw', 'europarl_raw.zip', 'floresta', 'floresta.zip', 'framenet_v15', 'framenet_v15.zip', 'framenet_v17', 'framenet_v17.zip', 'gazetteers', 'gazetteers.zip', 'genesis', 'genesis.zip', 'gutenberg', 'gutenberg.zip', 'ieer', 'ieer.zip', 'inaugural', 'inaugural.zip', 'indian', 'indian.zip', 'jeita.zip', 'kimmo', 'kimmo.zip', 'knbc.zip', 'lin_thesaurus', 'lin_thesaurus.zip', 'machado.zip', 'mac_morpho', 'mac_morpho.zip', 'masc_tagged.zip', 'movie_reviews', 'movie_reviews.zip', 'mte_teip5', 'mte_teip5.zip', 'names', 'names.zip', 'nombank.1.0.zip', 'nonbreaking_prefixes', 'nonbreaking_prefixes.zip', 'nps_chat', 'nps_chat.zip', 'omw', 'omw.zip', 'opinion_lexicon', 'opinion_lexicon.zip', 'panlex_swadesh.zip', 'paradigms', 'paradigms.zip', 'pil', 'pil.zip', 'pl196x', 'pl196x.zip', 'ppattach', 'ppattach.zip', 'problem_reports', 'problem_reports.zip', 'product_reviews_1', 'product_reviews_1.zip', 'product_reviews_2', 'product_reviews_2.zip', 'propbank.zip', 'pros_cons', 'pros_cons.zip', 'ptb', 'ptb.zip', 'qc', 'qc.zip', 'reuters.zip', 'rte', 'rte.zip', 'semcor.zip', 'senseval', 'senseval.zip', 'sentence_polarity', 'sentence_polarity.zip', 'sentiwordnet', 'sentiwordnet.zip', 'shakespeare', 'shakespeare.zip', 'sinica_treebank', 'sinica_treebank.zip', 'smultron', 'smultron.zip', 'state_union', 'state_union.zip', 'stopwords', 'stopwords.zip', 'subjectivity', 'subjectivity.zip', 'swadesh', 'swadesh.zip', 'switchboard', 'switchboard.zip', 'timit', 'timit.zip', 'toolbox', 'toolbox.zip', 'treebank', 'treebank.zip', 'twitter_samples', 'twitter_samples.zip', 'udhr', 'udhr.zip', 'udhr2', 'udhr2.zip', 'unicode_samples', 'unicode_samples.zip', 'universal_treebanks_v20.zip', 'verbnet', 'verbnet.zip', 'verbnet3', 'verbnet3.zip', 'webtext', 'webtext.zip', 'wordnet', 'wordnet.zip', 'wordnet_ic', 'wordnet_ic.zip', 'words', 'words.zip', 'ycoe', 'ycoe.zip']\n"
     ]
    }
   ],
   "source": [
    "import os\n",
    "import nltk.corpus\n",
    "print(os.listdir(nltk.data.find(\"corpora\")))"
   ]
  },
  {
   "cell_type": "code",
   "execution_count": 5,
   "metadata": {},
   "outputs": [
    {
     "name": "stderr",
     "output_type": "stream",
     "text": [
      "[nltk_data] Downloading package punkt to\n",
      "[nltk_data]     C:\\Users\\catan\\AppData\\Roaming\\nltk_data...\n",
      "[nltk_data]   Package punkt is already up-to-date!\n",
      "[nltk_data] Downloading package gutenberg to\n",
      "[nltk_data]     C:\\Users\\catan\\AppData\\Roaming\\nltk_data...\n",
      "[nltk_data]   Package gutenberg is already up-to-date!\n"
     ]
    }
   ],
   "source": [
    "import nltk\n",
    "from nltk.corpus import gutenberg\n",
    "nltk.download('punkt')\n",
    "nltk.download('gutenberg')\n",
    "import re\n",
    "from sklearn.model_selection import train_test_split"
   ]
  },
  {
   "cell_type": "code",
   "execution_count": 6,
   "metadata": {},
   "outputs": [
    {
     "data": {
      "text/plain": [
       "['austen-emma.txt',\n",
       " 'austen-persuasion.txt',\n",
       " 'austen-sense.txt',\n",
       " 'bible-kjv.txt',\n",
       " 'blake-poems.txt',\n",
       " 'bryant-stories.txt',\n",
       " 'burgess-busterbrown.txt',\n",
       " 'carroll-alice.txt',\n",
       " 'chesterton-ball.txt',\n",
       " 'chesterton-brown.txt',\n",
       " 'chesterton-thursday.txt',\n",
       " 'edgeworth-parents.txt',\n",
       " 'melville-moby_dick.txt',\n",
       " 'milton-paradise.txt',\n",
       " 'shakespeare-caesar.txt',\n",
       " 'shakespeare-hamlet.txt',\n",
       " 'shakespeare-macbeth.txt',\n",
       " 'whitman-leaves.txt']"
      ]
     },
     "execution_count": 6,
     "metadata": {},
     "output_type": "execute_result"
    }
   ],
   "source": [
    "nltk.corpus.gutenberg.fileids()"
   ]
  },
  {
   "cell_type": "code",
   "execution_count": 7,
   "metadata": {},
   "outputs": [],
   "source": [
    "# Utility function to clean text.\n",
    "def text_cleaner(text):\n",
    "    \n",
    "    # Visual inspection shows spaCy does not recognize the double dash '--'.\n",
    "    # Better get rid of it now!\n",
    "    text = re.sub(r'--',' ',text)\n",
    "    \n",
    "    # Get rid of headings in square brackets.\n",
    "    text = re.sub(\"[\\[].*?[\\]]\", \"\", text)\n",
    "    \n",
    "    # Get rid of chapter titles.\n",
    "    text = re.sub(r'Chapter \\d+','',text)\n",
    "    \n",
    "    # Get rid of extra whitespace.\n",
    "    text = ' '.join(text.split())\n",
    "    \n",
    "    return text[0:900000]\n",
    "\n",
    "\n",
    "# Import all the Austen in the Project Gutenberg corpus.\n",
    "austen = \"\"\n",
    "for novel in ['persuasion','emma','sense']:\n",
    "    work = gutenberg.raw('austen-' + novel + '.txt')\n",
    "    austen = austen + work\n",
    "    \n",
    "\n",
    "# Clean the data.\n",
    "austen_clean = text_cleaner(austen)\n"
   ]
  },
  {
   "cell_type": "code",
   "execution_count": 8,
   "metadata": {},
   "outputs": [],
   "source": [
    "# Parse the data. This can take some time.\n",
    "import spacy\n",
    "nlp = spacy.load('en_core_web_sm')\n",
    "austen_doc = nlp(austen_clean)\n",
    "\n"
   ]
  },
  {
   "cell_type": "code",
   "execution_count": 9,
   "metadata": {},
   "outputs": [
    {
     "name": "stdout",
     "output_type": "stream",
     "text": [
      "['equality', 'alliance', 'rest', 'elizabeth', 'mary', 'merely', 'connect', 'old', 'country', 'family', 'respectability', 'large', 'fortune', 'give', 'honour', 'receive', 'elizabeth', 'day', 'marry', 'suitably']\n",
      "We have 9299 sentences and 900000 tokens.\n"
     ]
    }
   ],
   "source": [
    "# Organize the parsed doc into sentences, while filtering out punctuation\n",
    "# and stop words, and converting words to lower case lemmas.\n",
    "sentences = []\n",
    "for sentence in austen_doc.sents:\n",
    "    sentence = [\n",
    "        token.lemma_.lower()\n",
    "        for token in sentence\n",
    "        if not token.is_stop\n",
    "        and not token.is_punct\n",
    "    ]\n",
    "    sentences.append(sentence)\n",
    "\n",
    "\n",
    "print(sentences[30])\n",
    "print('We have {} sentences and {} tokens.'.format(len(sentences), len(austen_clean)))"
   ]
  },
  {
   "cell_type": "code",
   "execution_count": 10,
   "metadata": {
    "run_control": {
     "frozen": false,
     "read_only": false
    }
   },
   "outputs": [
    {
     "name": "stderr",
     "output_type": "stream",
     "text": [
      "C:\\Users\\catan\\.conda\\envs\\catanEnv\\lib\\site-packages\\gensim\\models\\base_any2vec.py:743: UserWarning: C extension not loaded, training will be slow. Install a C compiler and reinstall gensim for fast training.\n",
      "  \"C extension not loaded, training will be slow. \"\n"
     ]
    },
    {
     "name": "stdout",
     "output_type": "stream",
     "text": [
      "done!\n"
     ]
    }
   ],
   "source": [
    "import gensim\n",
    "from gensim.models import word2vec\n",
    "\n",
    "model = word2vec.Word2Vec(\n",
    "    sentences,\n",
    "    workers=4,     # Number of threads to run in parallel (if your computer does parallel processing).\n",
    "    min_count=10,  # Minimum word count threshold.\n",
    "    window=6,      # Number of words around target word to consider.\n",
    "    sg=0,          # Use CBOW because our corpus is small.\n",
    "    sample=1e-3 ,  # Penalize frequent words.\n",
    "    size=300,      # Word vector length.\n",
    "    hs=1           # Use hierarchical softmax.\n",
    ")\n",
    "\n",
    "print('done!')"
   ]
  },
  {
   "cell_type": "code",
   "execution_count": 11,
   "metadata": {},
   "outputs": [
    {
     "data": {
      "text/plain": [
       "<gensim.models.word2vec.Word2Vec at 0x1fd0f022508>"
      ]
     },
     "execution_count": 11,
     "metadata": {},
     "output_type": "execute_result"
    }
   ],
   "source": [
    "model"
   ]
  },
  {
   "cell_type": "code",
   "execution_count": 12,
   "metadata": {},
   "outputs": [
    {
     "name": "stdout",
     "output_type": "stream",
     "text": [
      "[('goddard', 0.9660210609436035), ('benwick', 0.9557253122329712), ('musgrove', 0.9503816366195679), ('harville', 0.9463492631912231), ('clay', 0.942340612411499), ('colonel', 0.8979894518852234), ('wentworth', 0.8952829241752625), ('charles', 0.8906276226043701), ('weston', 0.8814607858657837), ('croft', 0.8522847890853882)]\n",
      "\n",
      "0.92788845\n",
      "\n"
     ]
    },
    {
     "name": "stderr",
     "output_type": "stream",
     "text": [
      "C:\\Users\\catan\\.conda\\envs\\catanEnv\\lib\\site-packages\\ipykernel_launcher.py:12: DeprecationWarning: Call to deprecated `doesnt_match` (Method will be removed in 4.0.0, use self.wv.doesnt_match() instead).\n",
      "  if sys.path[0] == '':\n",
      "C:\\Users\\catan\\.conda\\envs\\catanEnv\\lib\\site-packages\\gensim\\models\\keyedvectors.py:877: FutureWarning: arrays to stack must be passed as a \"sequence\" type such as list or tuple. Support for non-sequence iterables such as generators is deprecated as of NumPy 1.16 and will raise an error in the future.\n",
      "  vectors = vstack(self.word_vec(word, use_norm=True) for word in used_words).astype(REAL)\n"
     ]
    },
    {
     "name": "stdout",
     "output_type": "stream",
     "text": [
      "breakfast\n"
     ]
    }
   ],
   "source": [
    "# List of words in model.\n",
    "vocab = model.wv.vocab.keys()\n",
    "print(model.wv.most_similar(positive=['lady', 'man'], negative=['woman']))\n",
    "print()\n",
    "\n",
    "# Similarity is calculated using the cosine, so again 1 is total\n",
    "# similarity and 0 is no similarity.\n",
    "print(model.wv.similarity('mr', 'mrs'))\n",
    "print()\n",
    "\n",
    "# One of these things is not like the other...\n",
    "print(model.doesnt_match(\"breakfast marriage dinner lunch\".split()))\n"
   ]
  },
  {
   "cell_type": "code",
   "execution_count": 13,
   "metadata": {
    "scrolled": true
   },
   "outputs": [
    {
     "data": {
      "text/plain": [
       "dict_keys(['sir', 'walter', 'elliot', 'kellynch', 'hall', 'man', 'amusement', 'take', 'book', 'find', 'hour', 'rouse', 'admiration', 'respect', 'early', 'sensation', 'arise', 'domestic', 'affair', 'change', 'naturally', 'pity', 'turn', 'read', 'history', 'interest', 'fail', 'favourite', 'open', 'bear', 'marry', 'elizabeth', 'daughter', 'james', 'south', 'lady', 'die', 'anne', 'son', 'november', 'mary', 'stand', 'hand', 'improve', 'add', 'information', 'family', 'word', 'birth', 'married', 'charles', 'heir', 'musgrove', 'uppercross', 'day', 'month', 'lose', 'wife', 'follow', 'rise', 'respectable', 'usual', 'term', 'settle', 'mention', 'office', 'high', 'exertion', 'dignity', 'baronet', 'year', 'form', 'altogether', 'handsome', 'conclude', 'arm', 'principal', 'seat', 'william', 'great', 'second', 'vanity', 'beginning', 'end', 'character', 'person', 'situation', 'remarkably', 'youth', 'fine', 'woman', 'think', 'personal', 'appearance', 'new', 'lord', 'delighted', 'place', 'hold', 'society', 'consider', 'blessing', 'beauty', 'inferior', 'constant', 'object', 'warm', 'good', 'look', 'rank', 'fair', 'claim', 'attachment', 'owe', 'superior', 'thing', 'deserve', 'excellent', 'sensible', 'amiable', 'conduct', 'pardon', 'require', 'indulgence', 'humour', 'conceal', 'real', 'happy', 'world', 'duty', 'friend', 'child', 'attach', 'life', 'matter', 'indifference', 'call', 'quit', 'girl', 'eld', 'mother', 'charge', 'authority', 'silly', 'father', 'intimate', 'bring', 'strong', 'close', 'village', 'kindness', 'advice', 'help', 'principle', 'give', 'head', 'acquaintance', 'pass', 'away', 'death', 'near', 'neighbour', 'remain', 'widow', 'russell', 'steady', 'age', 'extremely', 'thought', 'marriage', 'need', 'apology', 'public', 'continue', 'explanation', 'know', 'like', 'have', 'meet', 'private', 'disappointment', 'application', 'pride', 'single', 'dear', 'sake', 'tempt', 'succeed', 'possible', 'right', 'consequence', 'influence', 'go', 'happily', 'value', 'little', 'importance', 'mrs', 'elegance', 'mind', 'sweetness', 'people', 'understanding', 'sister', 'convenience', 'way', 'highly', 'god', 'love', 'fancy', 'pretty', 'bloom', 'admire', 'totally', 'different', 'feature', 'dark', 'eye', 'excite', 'hope', 'work', 'alliance', 'rest', 'merely', 'connect', 'old', 'country', 'large', 'fortune', 'honour', 'receive', 'happen', 'generally', 'speak', 'ill', 'health', 'anxiety', 'time', 'scarcely', 'charm', 'miss', 'begin', 'ago', 'excuse', 'forget', 'half', 'everybody', 'grow', 'face', 'neighbourhood', 'increase', 'foot', 'long', 'distress', 'equal', 'see', 'mistress', 'direct', 'self', 'possession', 'decision', 'idea', 'young', 'lay', 'law', 'home', 'lead', 'walk', 'immediately', 'drawing', 'room', 'winter', 'credit', 'afford', 'spring', 'shew', 'travel', 'london', 'week', 'enjoyment', 'consciousness', 'regret', 'apprehension', 'fully', 'satisfied', 'feel', 'approach', 'danger', 'rejoice', 'certain', 'properly', 'present', 'evil', 'leave', 'table', 'especially', 'support', 'soon', 'event', 'brother', 'future', 'mean', 'boy', 'seek', 'warmth', 'make', 'mr', 'force', 'introduction', 'engage', 'agreeable', 'plan', 'favour', 'confirm', 'invite', 'talk', 'expect', 'come', 'town', 'equally', 'instead', 'line', 'mark', 'house', 'independence', 'rich', 'ought', 'consult', 'observe', 'twice', 'express', 'attempt', 'longer', 'notice', 'cease', 'interval', 'proper', 'match', 'feeling', 'acknowledge', 'summer', 'wear', 'admit', 'worth', 'reason', 'suppose', 'get', 'bad', 'kind', 'inform', 'belong', 'sentiment', 'care', 'agitation', 'scene', 'circle', 'fill', 'habit', 'talent', 'occupy', 'solicitude', 'money', 'drive', 'hint', 'shepherd', 'property', 'state', 'live', 'keep', 'income', 'period', 'spend', 'hear', 'vain', 'far', 'occur', 'justice', 'alarm', 'set', 'seriously', 'propose', 'cut', 'measure', 'oblige', 'confess', 'deep', 'able', 'lessen', 'expense', 'comfort', 'small', 'estate', 'dispose', 'difference', 'power', 'advise', 'strike', 'remove', 'involve', 'loss', 'taste', 'civil', 'view', 'disagreeable', 'prompt', 'anybody', 'offer', 'slight', 'beg', 'recommend', 'sense', 'subject', 'consideration', 'sound', 'quick', 'difficulty', 'instance', 'save', 'capable', 'notion', 'manner', 'rational', 'blind', 'fault', 'possess', 'attentive', 'husband', 'deal', 'compassion', 'doubt', 'anxious', 'pain', 'draw', 'question', 'degree', 'scheme', 'submit', 'want', 'complete', 'tone', 'persuade', 'say', 'paper', 'seven', 'clear', 'convince', 'affect', 'true', 'act', 'fact', 'case', 'suffering', 'prevail', 'decide', 'pay', 'gentleman', 'proceed', 'secure', 'short', 'rate', 'severe', 'believe', 'knowledge', 'sacrifice', 'horse', 'hardly', 'painful', 'gentle', 'success', 'servant', 'sooner', 'perfectly', 'start', 'quarter', 'scruple', 'entirely', 'appear', 'alter', 'style', 'judge', 'choose', 'important', 'bath', 'wish', 'pleasure', 'attend', 'opposite', 'inclination', 'fix', 'dislike', 'agree', 'trust', 'prefer', 'safe', 'material', 'advantage', 'course', 'distance', 'mile', 'satisfaction', 'induce', 'oppose', 'mortification', 'foresee', 'dreadful', 'regard', 'mistake', 'circumstance', 'school', 'spirit', 'fond', 'suit', 'avoid', 'certainly', 'let', 'secret', 'design', 'dare', 'intention', 'approve', 'glad', 'lately', 'intimacy', 'return', 'clever', 'understand', 'please', 'pleasing', 'stay', 'spite', 'friendship', 'caution', 'reserve', 'attention', 'point', 'carry', 'try', 'include', 'visit', 'arrangement', 'shut', 'occasion', 'endeavour', 'well', 'clay', 'affection', 'confidence', 'civility', 'dangerous', 'companion', 'removal', 'choice', 'reach', 'morning', 'peace', 'officer', 'tenant', 'war', 'admiral', 'lucky', 'reply', 'remark', 'laugh', 'wit', 'business', 'navy', 'liberal', 'likely', 'desirable', 'suggest', 'curiosity', 'john', 'venture', 'surprise', 'truth', 'particularly', 'trouble', 'imagine', 'description', 'bless', 'use', 'sailor', 'profession', 'valuable', 'picture', 'order', 'afraid', 'sweet', 'ground', 'grant', 'extraordinary', 'assure', 'pause', 'establish', 'plain', 'easy', 'depend', 'hard', 'allow', 'oh', 'sorry', 'yes', 'raise', 'company', 'eat', 'hair', '`', 'heaven', 'fellow', 'cry', 'shall', 'easily', 'wretched', 'sea', 'weather', 'till', 'fit', 'nay', 'poor', 'active', 'service', 'better', 'body', 'natural', 'effect', 'moment', 'necessary', 'honourable', 'regular', 'pursuit', 'croft', 'fall', 'report', 'immediate', 'concern', 'possibility', 'introduce', 'particular', 'inquiry', 'account', 'proof', 'cold', 'answer', 'station', 'sure', 'behaviour', 'comfortable', 'ready', 'ask', 'inquire', 'suffer', 'tell', 'recollect', 'eagerly', 'remember', 'odd', 'acquaint', 'sight', 'farmer', 'break', 'apple', 'catch', 'contrary', 'wait', 'wentworth', 'gratitude', 'wonder', 'name', 'common', 'perceive', 'connexion', 'crofts', 'number', 'happiness', 'intend', 'infinitely', 'wise', 'supply', 'mere', 'note', 'intercourse', 'completely', 'air', 'sigh', 'captain', 'frederick', 'employ', 'parent', 'intelligence', 'attraction', 'recommendation', 'gradually', 'perfection', 'proposal', 'accept', 'felicity', 'apply', 'actually', 'astonishment', 'silence', 'resolution', 'throw', 'engagement', 'chance', 'farther', 'grieve', 'stranger', 'sink', 'dependence', 'prevent', 'ship', 'differently', 'temper', 'horror', 'light', 'produce', 'opinion', 'tenderness', 'continually', 'wrong', 'put', 'deny', 'misery', 'share', 'nearly', 'comparison', 'memory', 'thoroughly', 'sufficient', 'cure', 'nice', 'willing', 'lament', 'general', 'past', 'enter', 'probable', 'fear', 'delay', 'maintain', 'suspense', 'result', 'expectation', 'command', 'distinguish', 'gain', 'step', 'cheerful', 'learn', 'recollection', 'folly', 'nerve', 'assist', 'perfect', 'apparent', 'superiority', 'motive', 'conviction', 'grateful', 'whisper', 'creature', 'accompany', 'delicacy', 'nee', 'awkwardness', 'daily', 'opportunity', 'meeting', 'party', 'prove', 'flatter', 'hesitation', 'declare', 'best', 'ashamed', 'fire', 'harm', 'compliment', 'hurry', 'convey', 'christmas', 'invitation', 'dread', 'sad', 'complaint', 'autumn', 'entreat', 'cottage', 'possibly', 'consequently', 'divide', 'burst', 'contain', 'sore', 'quiet', 'observation', 'absence', 'suspicion', 'warmly', 'suspect', 'beautiful', 'render', 'unhappy', 'merit', 'tolerably', 'absolutely', 'carriage', 'prepare', 'bow', 'sort', 'exceedingly', 'precious', 'escape', 'arrive', 'determine', 'journey', 'round', 'improvement', 'farm', 'window', 'considerable', 'run', 'sofa', 'elegant', 'send', 'sudden', 'soul', 'noise', 'stop', 'musgroves', 'write', 'aware', 'busy', 'arrange', 'music', 'nature', 'parish', 'dinner', 'yesterday', 'enquiry', 'strange', 'pleasant', 'sit', 'forward', 'henrietta', 'illness', 'cheerfulness', 'enjoy', 'parlour', 'confusion', 'direction', 'conscious', 'friendly', 'except', 'louisa', 'thousand', 'dress', 'pleasantly', 'join', 'conversation', 'heart', 'separate', 'papa', 'resolve', 'truly', 'prospect', 'imagination', 'part', 'undoubtedly', 'grace', 'couple', 'listen', 'language', 'hate', 'sick', 'cross', 'pleased', 'tolerable', 'communication', 'maid', 'story', 'watch', 'dine', 'indifferent', 'employment', 'interrupt', 'evening', 'play', 'voice', 'delight', 'performance', 'visitor', 'occasionally', 'cousin', 'dance', 'fly', 'touch', 'exclaim', 'low', 'necessity', 'master', 'likeness', 'expression', 'tall', 'complexion', 'thirty', 'relate', 'satisfy', 'minute', 'instant', 'strength', 'emotion', 'explain', 'reasonable', 'move', 'eager', 'finish', 'late', 'amuse', 'directly', 'letter', 'piece', 'board', 'impression', 'evidently', 'relief', 'repeat', 'probably', 'praise', 'arrival', 'welcome', 'useful', 'aunt', 'ease', 'promise', 'press', 'morrow', 'joy', 'night', 'bed', 'quietly', 'meaning', 'determined', 'luck', 'shock', 'excessively', 'door', 'nurse', 'cause', 'breakfast', 'later', 'spare', 'silent', 'compose', 'endure', 'persuasion', 'desire', 'smile', 'proud', 'describe', 'absent', 'renew', 'disposition', 'countenance', 'discern', 'accommodation', 'ah', 'impossible', 'discovery', 'corner', 'probability', 'fast', 'lovely', 'harville', 'speech', 'glance', 'collect', 'instantly', 'size', 'figure', 'gallantry', 'comprehend', 'purpose', 'pray', 'water', 'sing', 'madam', 'safely', 'thank', 'inconvenience', 'instrument', 'tired', 'hayter', 'compare', 'education', 'lively', 'delightful', 'decidedly', 'nonsense', 'uncle', 'winthrop', 'mistaken', 'mortify', 'interested', 'dr', 'shirley', 'presently', 'shake', 'contrive', 'angry', 'bend', 'hang', 'recover', 'evident', 'reflection', 'struggle', 'refuse', 'exactly', 'exercise', 'hedge', 'worthy', 'hill', 'tender', 'decline', 'fresh', 'unpleasant', 'spot', 'quarrel', 'conjecture', 'lane', 'guess', 'lodging', 'church', 'interesting', 'relation', 'lyme', 'street', 'inn', 'cobb', 'harvilles', 'benwick', 'display', 'protest', 'song', 'shop', 'restore', 'wind', 'somebody', 'news', 'assistance', 'overpower', 'glow', 'emma', 'henry', 'road', 'address', 'announce', 'leisure', 'rain', 'camden', 'fortunate', 'fortnight', 'pretend', 'eagerness', 'card', 'colonel', 'wallis', 'buildings', 'favourable', 'earnestly', 'charming', 'blush', 'simple', 'dalrymple', 'carteret', 'ireland', 'preserve', 'smith', 'liberty', 'frank', 'hearted', 'throat', 'chair', 'concerned', 'soft', 'betray', 'concert', 'tea', 'obliging', 'wedding', 'encouragement', 'chapter', 'woodhouse', 'taylor', 'mr.', 'judgment', 'weston', 'isabella', 'mrs.', 'hartfield', 'highbury', 'randalls', 'knightley', 'elton', 'chuse', 'churchill', 'surprize', 'enscombe', 'churchills', 'perry', 'bates', 'donwell', 'abbey', 'goddard', 'harriet', 'martin', 'approbation', 'martins', 'nash', 'robert', 'vicarage', 'charade', 'cole', 'niece', 'jane', 'fairfax', 'weymouth', 'campbell', 'snow', 'coles', 'campbells', 'dixon', 'pork', 'hawkins', 'ford', 'pianoforte'])"
      ]
     },
     "execution_count": 13,
     "metadata": {},
     "output_type": "execute_result"
    }
   ],
   "source": [
    "vocab"
   ]
  },
  {
   "cell_type": "code",
   "execution_count": null,
   "metadata": {},
   "outputs": [],
   "source": []
  },
  {
   "cell_type": "code",
   "execution_count": null,
   "metadata": {},
   "outputs": [],
   "source": []
  },
  {
   "cell_type": "code",
   "execution_count": null,
   "metadata": {},
   "outputs": [],
   "source": []
  },
  {
   "cell_type": "markdown",
   "metadata": {
    "run_control": {
     "frozen": false,
     "read_only": false
    }
   },
   "source": [
    "Clearly this model is not great – while some words given above might possibly fill in the analogy woman:lady::man:?, most answers likely make little sense. You'll notice as well that re-running the model likely gives you different results, indicating random chance plays a large role here.\n",
    "\n",
    "We do, however, get a nice result on \"marriage\" being dissimilar to \"breakfast\", \"lunch\", and \"dinner\". \n",
    "\n",
    "## Drill 0\n",
    "\n",
    "Take a few minutes to modify the hyperparameters of this model and see how its answers change. Can you wrangle any improvements?"
   ]
  },
  {
   "cell_type": "markdown",
   "metadata": {},
   "source": [
    "### Make value of parameter half"
   ]
  },
  {
   "cell_type": "code",
   "execution_count": 14,
   "metadata": {
    "run_control": {
     "frozen": false,
     "read_only": false
    }
   },
   "outputs": [
    {
     "name": "stdout",
     "output_type": "stream",
     "text": [
      "done!\n"
     ]
    }
   ],
   "source": [
    "# Tinker with hyperparameters here.\n",
    "import gensim\n",
    "from gensim.models import word2vec\n",
    "\n",
    "model = word2vec.Word2Vec(\n",
    "    sentences,\n",
    "    workers=2,     # Number of threads to run in parallel (if your computer does parallel processing).\n",
    "    min_count=2,  # Minimum word count threshold.\n",
    "    window=3,      # Number of words around target word to consider.\n",
    "    sg=0,          # Use CBOW because our corpus is small.\n",
    "    sample=1e-6 ,  # Penalize frequent words.\n",
    "    size=150,      # Word vector length.\n",
    "    hs=0           # Use hierarchical softmax.\n",
    ")\n",
    "\n",
    "print('done!')\n",
    "\n"
   ]
  },
  {
   "cell_type": "code",
   "execution_count": 15,
   "metadata": {
    "scrolled": true
   },
   "outputs": [
    {
     "name": "stdout",
     "output_type": "stream",
     "text": [
      "[('dwell', 0.2959557771682739), ('honour', 0.2587937116622925), ('active', 0.24486976861953735), ('read', 0.24447640776634216), ('blush', 0.24066400527954102), ('papa', 0.23716457188129425), ('feeling', 0.22708263993263245), ('degrade', 0.219066321849823), ('service', 0.21722759306430817), ('delightfully', 0.21603929996490479)]\n",
      "\n",
      "-0.048398193\n",
      "\n"
     ]
    },
    {
     "name": "stderr",
     "output_type": "stream",
     "text": [
      "C:\\Users\\catan\\.conda\\envs\\catanEnv\\lib\\site-packages\\ipykernel_launcher.py:12: DeprecationWarning: Call to deprecated `doesnt_match` (Method will be removed in 4.0.0, use self.wv.doesnt_match() instead).\n",
      "  if sys.path[0] == '':\n"
     ]
    },
    {
     "name": "stdout",
     "output_type": "stream",
     "text": [
      "breakfast\n"
     ]
    }
   ],
   "source": [
    "# List of words in model.\n",
    "vocab = model.wv.vocab.keys()\n",
    "print(model.wv.most_similar(positive=['lady', 'man'], negative=['woman']))\n",
    "print()\n",
    "\n",
    "# Similarity is calculated using the cosine, so again 1 is total\n",
    "# similarity and 0 is no similarity.\n",
    "print(model.wv.similarity('mr', 'mrs'))\n",
    "print()\n",
    "\n",
    "# One of these things is not like the other...\n",
    "print(model.doesnt_match(\"breakfast marriage dinner lunch\".split()))\n"
   ]
  },
  {
   "cell_type": "markdown",
   "metadata": {},
   "source": [
    "### Make value of parameter double"
   ]
  },
  {
   "cell_type": "code",
   "execution_count": 16,
   "metadata": {},
   "outputs": [
    {
     "name": "stdout",
     "output_type": "stream",
     "text": [
      "done!\n"
     ]
    }
   ],
   "source": [
    "# Tinker with hyperparameters here.\n",
    "import gensim\n",
    "from gensim.models import word2vec\n",
    "\n",
    "model = word2vec.Word2Vec(\n",
    "    sentences,\n",
    "    workers=8,     # Number of threads to run in parallel (if your computer does parallel processing).\n",
    "    min_count=20,  # Minimum word count threshold.\n",
    "    window=12,      # Number of words around target word to consider.\n",
    "    sg=1,          # Use CBOW because our corpus is small.\n",
    "    sample=1 ,  # Penalize frequent words.\n",
    "    size=600,      # Word vector length.\n",
    "    hs=2          # Use hierarchical softmax.\n",
    ")\n",
    "\n",
    "print('done!')\n",
    "\n"
   ]
  },
  {
   "cell_type": "code",
   "execution_count": 17,
   "metadata": {},
   "outputs": [
    {
     "name": "stdout",
     "output_type": "stream",
     "text": [
      "[('kindness', 0.9966493248939514), ('interest', 0.996642529964447), ('elliot', 0.996522843837738), ('anne', 0.996430516242981), ('good', 0.996430516242981), ('go', 0.9964213371276855), ('walter', 0.9964159727096558), ('way', 0.9964038133621216), ('russell', 0.9964032173156738), ('know', 0.9963642358779907)]\n",
      "\n",
      "0.9978303\n",
      "\n"
     ]
    },
    {
     "name": "stderr",
     "output_type": "stream",
     "text": [
      "C:\\Users\\catan\\.conda\\envs\\catanEnv\\lib\\site-packages\\ipykernel_launcher.py:12: DeprecationWarning: Call to deprecated `doesnt_match` (Method will be removed in 4.0.0, use self.wv.doesnt_match() instead).\n",
      "  if sys.path[0] == '':\n"
     ]
    },
    {
     "name": "stdout",
     "output_type": "stream",
     "text": [
      "dinner\n"
     ]
    }
   ],
   "source": [
    "# List of words in model.\n",
    "vocab = model.wv.vocab.keys()\n",
    "print(model.wv.most_similar(positive=['lady', 'man'], negative=['woman']))\n",
    "print()\n",
    "\n",
    "# Similarity is calculated using the cosine, so again 1 is total\n",
    "# similarity and 0 is no similarity.\n",
    "print(model.wv.similarity('mr', 'mrs'))\n",
    "print()\n",
    "\n",
    "# One of these things is not like the other...\n",
    "print(model.doesnt_match(\"breakfast marriage dinner lunch\".split()))\n"
   ]
  },
  {
   "cell_type": "code",
   "execution_count": null,
   "metadata": {},
   "outputs": [],
   "source": []
  },
  {
   "cell_type": "code",
   "execution_count": null,
   "metadata": {},
   "outputs": [],
   "source": []
  },
  {
   "cell_type": "markdown",
   "metadata": {
    "run_control": {
     "frozen": false,
     "read_only": false
    }
   },
   "source": [
    "# Example word2vec applications\n",
    "\n",
    "You can use the vectors from word2vec as features in other models, or try to gain insight from the vector compositions themselves.\n",
    "\n",
    "Here are some neat things people have done with word2vec:\n",
    "\n",
    " * [Visualizing word embeddings in Jane Austen's Pride and Prejudice](http://blogger.ghostweather.com/2014/11/visualizing-word-embeddings-in-pride.html). Skip to the bottom to see a _truly honest_ account of this data scientist's process.\n",
    "\n",
    " * [Tracking changes in Dutch Newspapers' associations with words like 'propaganda' and 'alien' from 1950 to 1990](https://www.slideshare.net/MelvinWevers/concepts-through-time-tracing-concepts-in-dutch-newspaper-discourse-using-sequential-word-vector-spaces).\n",
    "\n",
    " * [Helping customers find clothing items similar to a given item but differing on one or more characteristics](http://multithreaded.stitchfix.com/blog/2015/03/11/word-is-worth-a-thousand-vectors/)."
   ]
  },
  {
   "cell_type": "markdown",
   "metadata": {},
   "source": [
    "## Drill 1: Word2Vec on 100B+ words\n",
    "\n",
    "As we mentioned, word2vec really works best on a big corpus, but it can take half a day to clean such a corpus and run word2vec on it.  Fortunately, there are word2vec models available that have already been trained on _really_ big corpora. They are big files, but you can download a [pretrained model of your choice here](https://github.com/3Top/word2vec-api). At minimum, the ones built with word2vec (check the \"Architecture\" column) should load smoothly using an appropriately modified version of the code below, and you can play to your heart's content.\n",
    "\n",
    "Because the models are so large, however, you may run into memory problems or crash the kernel. If you can't get a pretrained model to run locally, check out this [interactive web app of the Google News model](https://rare-technologies.com/word2vec-tutorial/#bonus_app) instead.\n",
    "\n",
    "However you access it, play around with a pretrained model. Is there anything interesting you're able to pull out about analogies, similar words, or words that don't match? Write up a quick note about your tinkering and discuss it with your mentor during your next session."
   ]
  },
  {
   "cell_type": "code",
   "execution_count": 18,
   "metadata": {},
   "outputs": [
    {
     "name": "stderr",
     "output_type": "stream",
     "text": [
      "ERROR: Could not open requirements file: [Errno 2] No such file or directory: 'requirements.txt'\n",
      "WARNING: You are using pip version 19.2.1, however version 19.2.3 is available.\n",
      "You should consider upgrading via the 'python -m pip install --upgrade pip' command.\n"
     ]
    },
    {
     "name": "stdout",
     "output_type": "stream",
     "text": [
      "Note: you may need to restart the kernel to use updated packages.\n"
     ]
    }
   ],
   "source": [
    "pip install -r requirements.txt"
   ]
  },
  {
   "cell_type": "code",
   "execution_count": 20,
   "metadata": {
    "run_control": {
     "frozen": false,
     "read_only": false
    }
   },
   "outputs": [],
   "source": [
    "# Load Google's pre-trained Word2Vec model.\n",
    "model = gensim.models.KeyedVectors.load_word2vec_format ('https://s3.amazonaws.com/dl4j-distribution/GoogleNews-vectors-negative300.bin.gz', binary=True)"
   ]
  },
  {
   "cell_type": "code",
   "execution_count": 21,
   "metadata": {
    "run_control": {
     "frozen": false,
     "read_only": false
    }
   },
   "outputs": [
    {
     "ename": "TypeError",
     "evalue": "expected string or bytes-like object",
     "output_type": "error",
     "traceback": [
      "\u001b[1;31m---------------------------------------------------------------------------\u001b[0m",
      "\u001b[1;31mTypeError\u001b[0m                                 Traceback (most recent call last)",
      "\u001b[1;32m<ipython-input-21-c2e07f37beb4>\u001b[0m in \u001b[0;36m<module>\u001b[1;34m\u001b[0m\n\u001b[0;32m      1\u001b[0m \u001b[1;31m# Play around with your pretrained model here.\u001b[0m\u001b[1;33m\u001b[0m\u001b[1;33m\u001b[0m\u001b[1;33m\u001b[0m\u001b[0m\n\u001b[0;32m      2\u001b[0m \u001b[1;31m# Clean the data.\u001b[0m\u001b[1;33m\u001b[0m\u001b[1;33m\u001b[0m\u001b[1;33m\u001b[0m\u001b[0m\n\u001b[1;32m----> 3\u001b[1;33m \u001b[0mmodel_clean\u001b[0m \u001b[1;33m=\u001b[0m \u001b[0mtext_cleaner\u001b[0m\u001b[1;33m(\u001b[0m\u001b[0mmodel\u001b[0m\u001b[1;33m)\u001b[0m\u001b[1;33m\u001b[0m\u001b[1;33m\u001b[0m\u001b[0m\n\u001b[0m\u001b[0;32m      4\u001b[0m \u001b[1;33m\u001b[0m\u001b[0m\n",
      "\u001b[1;32m<ipython-input-7-af66fccdbcdb>\u001b[0m in \u001b[0;36mtext_cleaner\u001b[1;34m(text)\u001b[0m\n\u001b[0;32m      4\u001b[0m     \u001b[1;31m# Visual inspection shows spaCy does not recognize the double dash '--'.\u001b[0m\u001b[1;33m\u001b[0m\u001b[1;33m\u001b[0m\u001b[1;33m\u001b[0m\u001b[0m\n\u001b[0;32m      5\u001b[0m     \u001b[1;31m# Better get rid of it now!\u001b[0m\u001b[1;33m\u001b[0m\u001b[1;33m\u001b[0m\u001b[1;33m\u001b[0m\u001b[0m\n\u001b[1;32m----> 6\u001b[1;33m     \u001b[0mtext\u001b[0m \u001b[1;33m=\u001b[0m \u001b[0mre\u001b[0m\u001b[1;33m.\u001b[0m\u001b[0msub\u001b[0m\u001b[1;33m(\u001b[0m\u001b[1;34mr'--'\u001b[0m\u001b[1;33m,\u001b[0m\u001b[1;34m' '\u001b[0m\u001b[1;33m,\u001b[0m\u001b[0mtext\u001b[0m\u001b[1;33m)\u001b[0m\u001b[1;33m\u001b[0m\u001b[1;33m\u001b[0m\u001b[0m\n\u001b[0m\u001b[0;32m      7\u001b[0m \u001b[1;33m\u001b[0m\u001b[0m\n\u001b[0;32m      8\u001b[0m     \u001b[1;31m# Get rid of headings in square brackets.\u001b[0m\u001b[1;33m\u001b[0m\u001b[1;33m\u001b[0m\u001b[1;33m\u001b[0m\u001b[0m\n",
      "\u001b[1;32m~\\.conda\\envs\\catanEnv\\lib\\re.py\u001b[0m in \u001b[0;36msub\u001b[1;34m(pattern, repl, string, count, flags)\u001b[0m\n\u001b[0;32m    190\u001b[0m     \u001b[0ma\u001b[0m \u001b[0mcallable\u001b[0m\u001b[1;33m,\u001b[0m \u001b[0mit\u001b[0m\u001b[0;31m'\u001b[0m\u001b[0ms\u001b[0m \u001b[0mpassed\u001b[0m \u001b[0mthe\u001b[0m \u001b[0mMatch\u001b[0m \u001b[0mobject\u001b[0m \u001b[1;32mand\u001b[0m \u001b[0mmust\u001b[0m \u001b[1;32mreturn\u001b[0m\u001b[1;33m\u001b[0m\u001b[1;33m\u001b[0m\u001b[0m\n\u001b[0;32m    191\u001b[0m     a replacement string to be used.\"\"\"\n\u001b[1;32m--> 192\u001b[1;33m     \u001b[1;32mreturn\u001b[0m \u001b[0m_compile\u001b[0m\u001b[1;33m(\u001b[0m\u001b[0mpattern\u001b[0m\u001b[1;33m,\u001b[0m \u001b[0mflags\u001b[0m\u001b[1;33m)\u001b[0m\u001b[1;33m.\u001b[0m\u001b[0msub\u001b[0m\u001b[1;33m(\u001b[0m\u001b[0mrepl\u001b[0m\u001b[1;33m,\u001b[0m \u001b[0mstring\u001b[0m\u001b[1;33m,\u001b[0m \u001b[0mcount\u001b[0m\u001b[1;33m)\u001b[0m\u001b[1;33m\u001b[0m\u001b[1;33m\u001b[0m\u001b[0m\n\u001b[0m\u001b[0;32m    193\u001b[0m \u001b[1;33m\u001b[0m\u001b[0m\n\u001b[0;32m    194\u001b[0m \u001b[1;32mdef\u001b[0m \u001b[0msubn\u001b[0m\u001b[1;33m(\u001b[0m\u001b[0mpattern\u001b[0m\u001b[1;33m,\u001b[0m \u001b[0mrepl\u001b[0m\u001b[1;33m,\u001b[0m \u001b[0mstring\u001b[0m\u001b[1;33m,\u001b[0m \u001b[0mcount\u001b[0m\u001b[1;33m=\u001b[0m\u001b[1;36m0\u001b[0m\u001b[1;33m,\u001b[0m \u001b[0mflags\u001b[0m\u001b[1;33m=\u001b[0m\u001b[1;36m0\u001b[0m\u001b[1;33m)\u001b[0m\u001b[1;33m:\u001b[0m\u001b[1;33m\u001b[0m\u001b[1;33m\u001b[0m\u001b[0m\n",
      "\u001b[1;31mTypeError\u001b[0m: expected string or bytes-like object"
     ]
    }
   ],
   "source": [
    "# Play around with your pretrained model here.\n",
    "# Clean the data.\n",
    "\n",
    "\n"
   ]
  }
 ],
 "metadata": {
  "hide_input": false,
  "kernelspec": {
   "display_name": "Python 3",
   "language": "python",
   "name": "python3"
  },
  "language_info": {
   "codemirror_mode": {
    "name": "ipython",
    "version": 3
   },
   "file_extension": ".py",
   "mimetype": "text/x-python",
   "name": "python",
   "nbconvert_exporter": "python",
   "pygments_lexer": "ipython3",
   "version": "3.7.4"
  },
  "toc": {
   "colors": {
    "hover_highlight": "#DAA520",
    "running_highlight": "#FF0000",
    "selected_highlight": "#FFD700"
   },
   "moveMenuLeft": true,
   "nav_menu": {
    "height": "96px",
    "width": "252px"
   },
   "navigate_menu": true,
   "number_sections": true,
   "sideBar": true,
   "threshold": 4,
   "toc_cell": false,
   "toc_section_display": "block",
   "toc_window_display": false
  }
 },
 "nbformat": 4,
 "nbformat_minor": 2
}
